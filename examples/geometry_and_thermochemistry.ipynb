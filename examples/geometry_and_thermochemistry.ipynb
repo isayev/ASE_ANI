{
 "cells": [
  {
   "cell_type": "markdown",
   "metadata": {},
   "source": [
    "#### Import required libraries\n",
    "##### Set path interface. Please change to your own path"
   ]
  },
  {
   "cell_type": "code",
   "execution_count": 1,
   "metadata": {},
   "outputs": [
    {
     "name": "stdout",
     "output_type": "stream",
     "text": [
      "van Der Waals correction will be unavailable. Please install ased3\n"
     ]
    }
   ],
   "source": [
    "import sys\n",
    "#sys.path.append('/home/olexandr/notebooks/ASE_ANI/lib')\n",
    "from ase_interface import ANIENS\n",
    "from ase_interface import aniensloader"
   ]
  },
  {
   "cell_type": "code",
   "execution_count": 2,
   "metadata": {},
   "outputs": [],
   "source": [
    "import numpy as np\n",
    "import time\n",
    "# ASE\n",
    "import  ase\n",
    "from ase.io import read, write\n",
    "from ase.optimize import BFGS, LBFGS \n",
    "from ase.vibrations import Vibrations\n",
    "from ase.thermochemistry import IdealGasThermo\n",
    "\n",
    "#figure plotting\n",
    "import matplotlib\n",
    "import matplotlib as mpl\n",
    "import matplotlib.pyplot as plt\n",
    "#import seaborn as sns\n",
    "%matplotlib inline"
   ]
  },
  {
   "cell_type": "markdown",
   "metadata": {},
   "source": [
    "#### Read geometry from xyz file and setup calculator"
   ]
  },
  {
   "cell_type": "code",
   "execution_count": 3,
   "metadata": {},
   "outputs": [],
   "source": [
    "geometry = read('data/water.xyz')\n",
    "\n",
    "# Current ANI model options are:\n",
    "# '../ani_models/ani-1ccx_8x.info' Coupled cluster transfer learned model\n",
    "# '../ani_models/ani-1x_8x.info'   Full ANI-1x wb97x/6-31g* dataset model\n",
    "geometry.set_calculator(ANIENS(aniensloader('../ani_models/ani-1ccx_8x.info', gpu=0, multigpu=False)))"
   ]
  },
  {
   "cell_type": "markdown",
   "metadata": {},
   "source": [
    "#### Calculate single point energy, atomic energies, and forces"
   ]
  },
  {
   "cell_type": "code",
   "execution_count": 4,
   "metadata": {},
   "outputs": [
    {
     "name": "stdout",
     "output_type": "stream",
     "text": [
      "Total energy -2078.50282282132 eV\n"
     ]
    }
   ],
   "source": [
    "e = geometry.get_potential_energy()\n",
    "print('Total energy', e, 'eV')"
   ]
  },
  {
   "cell_type": "code",
   "execution_count": 5,
   "metadata": {},
   "outputs": [
    {
     "data": {
      "text/plain": [
       "array([[-0.30596783, -0.18889855, -0.18626961],\n",
       "       [-0.3118565 , -0.17750212, -0.17757316],\n",
       "       [-0.2737363 , -0.20476448, -0.20041333],\n",
       "       [-0.38988734, -0.14600253, -0.14439384],\n",
       "       [-0.49649216, -0.09650336, -0.09329748],\n",
       "       [-0.39089172, -0.1363589 , -0.13453905],\n",
       "       [-0.39495803, -0.14175725, -0.13636874],\n",
       "       [-0.48994318, -0.09549404, -0.0930541 ]])"
      ]
     },
     "execution_count": 5,
     "metadata": {},
     "output_type": "execute_result"
    }
   ],
   "source": [
    "geometry.calc.get_atomicenergies(sae=False)"
   ]
  },
  {
   "cell_type": "code",
   "execution_count": 6,
   "metadata": {
    "scrolled": true
   },
   "outputs": [
    {
     "data": {
      "text/plain": [
       "array([[ 3.5510799e-01,  8.3285220e-02, -2.9023369e-03],\n",
       "       [-7.4988507e-02,  1.1935695e-02, -1.1308717e-04],\n",
       "       [-2.8011954e-01, -9.5221400e-02,  3.0154386e-03]], dtype=float32)"
      ]
     },
     "execution_count": 6,
     "metadata": {},
     "output_type": "execute_result"
    }
   ],
   "source": [
    "geometry.get_forces()"
   ]
  },
  {
   "cell_type": "markdown",
   "metadata": {},
   "source": [
    "#### Geometry optimization with BFGS"
   ]
  },
  {
   "cell_type": "code",
   "execution_count": 7,
   "metadata": {
    "scrolled": false
   },
   "outputs": [
    {
     "name": "stdout",
     "output_type": "stream",
     "text": [
      "       Step     Time          Energy         fmax\n",
      "LBFGS:    0 15:54:00    -2078.502823        0.3648\n",
      "LBFGS:    1 15:54:00    -2078.503865        0.1675\n",
      "LBFGS:    2 15:54:00    -2078.504142        0.0507\n",
      "LBFGS:    3 15:54:00    -2078.504212        0.0296\n",
      "LBFGS:    4 15:54:00    -2078.504264        0.0128\n",
      "LBFGS:    5 15:54:00    -2078.504266        0.0017\n",
      "LBFGS:    6 15:54:00    -2078.504266        0.0001\n",
      "[ANI Total time: 0.04100346565246582 seconds]\n"
     ]
    }
   ],
   "source": [
    "start_time = time.time()\n",
    "dyn = LBFGS(geometry)\n",
    "dyn.run(fmax=0.001)\n",
    "print('[ANI Total time:', time.time() - start_time, 'seconds]')"
   ]
  },
  {
   "cell_type": "code",
   "execution_count": 8,
   "metadata": {},
   "outputs": [
    {
     "name": "stdout",
     "output_type": "stream",
     "text": [
      "Total energy -2078.5042660113986 eV\n"
     ]
    }
   ],
   "source": [
    "e = geometry.get_potential_energy()\n",
    "print('Total energy', e, 'eV')"
   ]
  },
  {
   "cell_type": "code",
   "execution_count": 9,
   "metadata": {},
   "outputs": [
    {
     "data": {
      "text/plain": [
       "array([[-2.6337273e-05, -1.3322434e-04,  3.3407159e-06],\n",
       "       [ 3.5057892e-06,  9.5589035e-05, -2.3597306e-06],\n",
       "       [ 2.2613500e-05,  3.8772163e-05, -1.0102135e-06]], dtype=float32)"
      ]
     },
     "execution_count": 9,
     "metadata": {},
     "output_type": "execute_result"
    }
   ],
   "source": [
    "geometry.get_forces()"
   ]
  },
  {
   "cell_type": "markdown",
   "metadata": {},
   "source": [
    "#### Vibrations and thermochemistry with numeric 2nd derivatives"
   ]
  },
  {
   "cell_type": "code",
   "execution_count": 10,
   "metadata": {},
   "outputs": [
    {
     "name": "stdout",
     "output_type": "stream",
     "text": [
      "Writing vib.eq.pckl\n",
      "Writing vib.0x-.pckl\n",
      "Writing vib.0x+.pckl\n",
      "Writing vib.0y-.pckl\n",
      "Writing vib.0y+.pckl\n",
      "Writing vib.0z-.pckl\n",
      "Writing vib.0z+.pckl\n",
      "Writing vib.1x-.pckl\n",
      "Writing vib.1x+.pckl\n",
      "Writing vib.1y-.pckl\n",
      "Writing vib.1y+.pckl\n",
      "Writing vib.1z-.pckl\n",
      "Writing vib.1z+.pckl\n",
      "Writing vib.2x-.pckl\n",
      "Writing vib.2x+.pckl\n",
      "Writing vib.2y-.pckl\n",
      "Writing vib.2y+.pckl\n",
      "Writing vib.2z-.pckl\n",
      "Writing vib.2z+.pckl\n"
     ]
    }
   ],
   "source": [
    "vib = Vibrations(geometry, nfree=2) \n",
    "vib.run()"
   ]
  },
  {
   "cell_type": "code",
   "execution_count": 11,
   "metadata": {},
   "outputs": [
    {
     "name": "stdout",
     "output_type": "stream",
     "text": [
      "---------------------\n",
      "  #    meV     cm^-1\n",
      "---------------------\n",
      "  0    2.0i     15.8i\n",
      "  1    1.1i      9.1i\n",
      "  2    0.1i      1.0i\n",
      "  3    0.3       2.6 \n",
      "  4    3.4      27.0 \n",
      "  5    3.5      28.5 \n",
      "  6  213.7    1723.3 \n",
      "  7  474.9    3830.1 \n",
      "  8  477.9    3854.7 \n",
      "---------------------\n",
      "Zero-point energy: 0.587 eV\n"
     ]
    }
   ],
   "source": [
    "vib.summary()"
   ]
  },
  {
   "cell_type": "code",
   "execution_count": 12,
   "metadata": {},
   "outputs": [
    {
     "data": {
      "text/plain": [
       "0.5868330720915512"
      ]
     },
     "execution_count": 12,
     "metadata": {},
     "output_type": "execute_result"
    }
   ],
   "source": [
    "vib.get_zero_point_energy()"
   ]
  },
  {
   "cell_type": "code",
   "execution_count": 13,
   "metadata": {},
   "outputs": [
    {
     "data": {
      "text/plain": [
       "array([0.00000000e+00+15.76858108j, 0.00000000e+00 +9.09943649j,\n",
       "       0.00000000e+00 +0.99467795j, 2.63641158e+00 +0.        j,\n",
       "       2.70370567e+01 +0.        j, 2.85366076e+01 +0.        j,\n",
       "       1.72330433e+03 +0.        j, 3.83006694e+03 +0.        j,\n",
       "       3.85467458e+03 +0.        j])"
      ]
     },
     "execution_count": 13,
     "metadata": {},
     "output_type": "execute_result"
    }
   ],
   "source": [
    "vib.get_frequencies()"
   ]
  },
  {
   "cell_type": "code",
   "execution_count": 14,
   "metadata": {},
   "outputs": [
    {
     "name": "stdout",
     "output_type": "stream",
     "text": [
      "Enthalpy components at T = 298.15 K:\n",
      "===============================\n",
      "E_pot              -2078.504 eV\n",
      "E_ZPE                  0.583 eV\n",
      "Cv_trans (0->T)        0.039 eV\n",
      "Cv_rot (0->T)          0.039 eV\n",
      "Cv_vib (0->T)          0.000 eV\n",
      "(C_v -> C_p)           0.026 eV\n",
      "-------------------------------\n",
      "H                  -2077.818 eV\n",
      "===============================\n",
      "\n",
      "Entropy components at T = 298.15 K and P = 101325.0 Pa:\n",
      "=================================================\n",
      "                           S               T*S\n",
      "S_trans (1 atm)    0.0015008 eV/K        0.447 eV\n",
      "S_rot              0.0005130 eV/K        0.153 eV\n",
      "S_elec             0.0000000 eV/K        0.000 eV\n",
      "S_vib              0.0000002 eV/K        0.000 eV\n",
      "S (1 atm -> P)    -0.0000000 eV/K       -0.000 eV\n",
      "-------------------------------------------------\n",
      "S                  0.0020140 eV/K        0.600 eV\n",
      "=================================================\n",
      "\n",
      "Free energy components at T = 298.15 K and P = 101325.0 Pa:\n",
      "=======================\n",
      "    H      -2077.818 eV\n",
      " -T*S         -0.600 eV\n",
      "-----------------------\n",
      "    G      -2078.419 eV\n",
      "=======================\n"
     ]
    }
   ],
   "source": [
    "vib_energies = vib.get_energies()\n",
    "\n",
    "thermo = IdealGasThermo(vib_energies=vib_energies,\n",
    "                        potentialenergy=e,\n",
    "                        atoms=geometry,\n",
    "                        geometry='nonlinear',\n",
    "                        symmetrynumber=1, spin=0)\n",
    "G = thermo.get_gibbs_energy(temperature=298.15, pressure=101325.)"
   ]
  },
  {
   "cell_type": "code",
   "execution_count": 15,
   "metadata": {},
   "outputs": [
    {
     "data": {
      "text/plain": [
       "-2078.41869725461"
      ]
     },
     "execution_count": 15,
     "metadata": {},
     "output_type": "execute_result"
    }
   ],
   "source": [
    "G"
   ]
  },
  {
   "cell_type": "code",
   "execution_count": 16,
   "metadata": {},
   "outputs": [
    {
     "data": {
      "text/plain": [
       "19"
      ]
     },
     "execution_count": 16,
     "metadata": {},
     "output_type": "execute_result"
    }
   ],
   "source": [
    "# remove mode pckl files\n",
    "vib.clean()"
   ]
  }
 ],
 "metadata": {
  "anaconda-cloud": {},
  "kernelspec": {
   "display_name": "Python 3",
   "language": "python",
   "name": "python3"
  },
  "language_info": {
   "codemirror_mode": {
    "name": "ipython",
    "version": 3
   },
   "file_extension": ".py",
   "mimetype": "text/x-python",
   "name": "python",
   "nbconvert_exporter": "python",
   "pygments_lexer": "ipython3",
   "version": "3.6.10"
  }
 },
 "nbformat": 4,
 "nbformat_minor": 1
}
