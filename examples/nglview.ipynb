{
 "cells": [
  {
   "cell_type": "markdown",
   "metadata": {},
   "source": [
    "# NGLView "
   ]
  },
  {
   "cell_type": "markdown",
   "metadata": {
    "collapsed": true
   },
   "source": [
    "This notebook shows several examples how to visualize molecular structures with NGLView"
   ]
  },
  {
   "cell_type": "code",
   "execution_count": 1,
   "metadata": {},
   "outputs": [
    {
     "name": "stdout",
     "output_type": "stream",
     "text": [
      "nglview version = 1.1.5+2.g5547e50\n",
      "pytraj version = 2.0.2\n"
     ]
    }
   ],
   "source": [
    "import warnings\n",
    "warnings.filterwarnings('ignore', category=DeprecationWarning)\n",
    "warnings.filterwarnings('ignore', category=UserWarning)\n",
    "\n",
    "# -------- NGLView 1.0 documentation ---------\n",
    "# https://github.com/arose/nglview\n",
    "# http://nglviewer.org/nglview/latest/index.html\n",
    "import nglview as nv\n",
    "from nglview.datafiles import PDB, XTC\n",
    "\n",
    "#needed for MD\n",
    "#Please see http://mdtraj.org to Install\n",
    "import mdtraj as md\n",
    "\n",
    "#Please see http://amber-md.github.io/pytraj/latest/installation.html to Install\n",
    "import pytraj as pt\n",
    "\n",
    "from IPython.display import Image\n",
    "from IPython.core.display import HTML \n",
    "from IPython.display import display, HTML\n",
    "\n",
    "from ase import Atom, Atoms\n",
    "from ase.io.trajectory import Trajectory\n",
    "\n",
    "print(\"nglview version = {}\".format(nv.__version__))\n",
    "print(\"pytraj version = {}\".format(pt.__version__))"
   ]
  },
  {
   "cell_type": "markdown",
   "metadata": {},
   "source": [
    "### Load PDB structure"
   ]
  },
  {
   "cell_type": "code",
   "execution_count": 2,
   "metadata": {},
   "outputs": [
    {
     "data": {
      "application/vnd.jupyter.widget-view+json": {
       "model_id": "8fb6c7612b27409da513eeed6890e8c9",
       "version_major": 2,
       "version_minor": 0
      },
      "text/plain": [
       "NGLWidget()"
      ]
     },
     "metadata": {},
     "output_type": "display_data"
    }
   ],
   "source": [
    "view = nv.show_structure_file('nglview/2bl9.pdb')\n",
    "view.parameters = dict(camera_type='orthographic', \n",
    "                       background_color='black',\n",
    "                       clip_dist=0)\n",
    "view.add_representation('cartoon', selection='protein', color='blue')\n",
    "view"
   ]
  },
  {
   "cell_type": "markdown",
   "metadata": {},
   "source": [
    "### Show ASE structure file"
   ]
  },
  {
   "cell_type": "code",
   "execution_count": 3,
   "metadata": {
    "scrolled": true
   },
   "outputs": [
    {
     "data": {
      "application/vnd.jupyter.widget-view+json": {
       "model_id": "5814a86cd2184b25b99ee73c0ecd4c32",
       "version_major": 2,
       "version_minor": 0
      },
      "text/plain": [
       "NGLWidget()"
      ]
     },
     "metadata": {},
     "output_type": "display_data"
    }
   ],
   "source": [
    "# Create dummy C2 dimer\n",
    "dimer = Atoms([Atom('C', (0, 0, 0)),\n",
    "                Atom('C', (0, 0, 1))])\n",
    "dimer.set_positions([(1, 2, 3), (4, 5, 6.2)])\n",
    "w = nv.show_ase(dimer)\n",
    "w "
   ]
  },
  {
   "cell_type": "markdown",
   "metadata": {},
   "source": [
    "### Show ASE trajectory file"
   ]
  },
  {
   "cell_type": "code",
   "execution_count": 4,
   "metadata": {},
   "outputs": [
    {
     "data": {
      "application/vnd.jupyter.widget-view+json": {
       "model_id": "8490788cf0944c8c9b65791e488ebab6",
       "version_major": 2,
       "version_minor": 0
      },
      "text/plain": [
       "NGLWidget(count=20)"
      ]
     },
     "metadata": {},
     "output_type": "display_data"
    }
   ],
   "source": [
    "traj = Trajectory('nglview/ase_bz.traj')\n",
    "view = nv.show_asetraj(traj)\n",
    "view.parameters = dict(camera_type='orthographic', \n",
    "                       background_color='black',\n",
    "                       clip_dist=5)\n",
    "view "
   ]
  },
  {
   "cell_type": "markdown",
   "metadata": {},
   "source": [
    "### PyTraj"
   ]
  },
  {
   "cell_type": "code",
   "execution_count": 5,
   "metadata": {},
   "outputs": [
    {
     "data": {
      "application/vnd.jupyter.widget-view+json": {
       "model_id": "03e83e138d90416bac7472cb996c69d1",
       "version_major": 2,
       "version_minor": 0
      },
      "text/plain": [
       "NGLWidget(count=101)"
      ]
     },
     "metadata": {},
     "output_type": "display_data"
    }
   ],
   "source": [
    "# load netcdf file with given amber parm file\n",
    "traj2 = pt.load('nglview/tz2.nc', 'nglview/tz2.parm7') \n",
    "view2 = nv.show_pytraj(traj2)\n",
    "view2.clear_representations()\n",
    "view2.add_representation('cartoon')\n",
    "view2.add_representation('licorice', selection='not hydrogen')\n",
    "view2"
   ]
  },
  {
   "cell_type": "markdown",
   "metadata": {},
   "source": [
    "### MDTraj"
   ]
  },
  {
   "cell_type": "code",
   "execution_count": 6,
   "metadata": {},
   "outputs": [
    {
     "data": {
      "application/vnd.jupyter.widget-view+json": {
       "model_id": "cf247c227c934643bb3e3c352301e6c6",
       "version_major": 2,
       "version_minor": 0
      },
      "text/plain": [
       "NGLWidget(count=201)"
      ]
     },
     "metadata": {},
     "output_type": "display_data"
    }
   ],
   "source": [
    "#ANI IRC for basic Diels-Alder reaction. 1st frame is TS. Frame 1-100 is product and 101-200 is reactant.\n",
    "m_traj = md.load_xyz('nglview/ANI_IRC-DA.xyz',top='nglview/sd.pdb')\n",
    "m_view = nv.show_mdtraj(m_traj)\n",
    "m_view.parameters = dict(camera_type='orthographic', \n",
    "                       background_color='black',\n",
    "                       clip_dist=5)\n",
    "m_view"
   ]
  },
  {
   "cell_type": "code",
   "execution_count": null,
   "metadata": {
    "collapsed": true
   },
   "outputs": [],
   "source": []
  }
 ],
 "metadata": {
  "kernelspec": {
   "display_name": "Python [default]",
   "language": "python",
   "name": "python3"
  },
  "language_info": {
   "codemirror_mode": {
    "name": "ipython",
    "version": 3
   },
   "file_extension": ".py",
   "mimetype": "text/x-python",
   "name": "python",
   "nbconvert_exporter": "python",
   "pygments_lexer": "ipython3",
   "version": "3.6.2"
  }
 },
 "nbformat": 4,
 "nbformat_minor": 2
}
