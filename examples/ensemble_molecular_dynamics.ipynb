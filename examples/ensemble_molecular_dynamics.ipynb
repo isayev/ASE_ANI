{
 "cells": [
  {
   "cell_type": "markdown",
   "metadata": {},
   "source": [
    "### Set path to original pyNeuroChem. Please change to your own path"
   ]
  },
  {
   "cell_type": "markdown",
   "metadata": {},
   "source": [
    "#### Import required libraries"
   ]
  },
  {
   "cell_type": "code",
   "execution_count": 1,
   "metadata": {},
   "outputs": [],
   "source": [
    "import sys\n",
    "#sys.path.append('/home/olexandr/notebooks/ASE_ANI/lib')\n",
    "from ase_interface import ANIENS\n",
    "from ase_interface import aniensloader\n",
    "from ase_interface import ANIENS,ensemblemolecule"
   ]
  },
  {
   "cell_type": "code",
   "execution_count": 2,
   "metadata": {},
   "outputs": [],
   "source": [
    "import numpy as np\n",
    "import  ase\n",
    "import time\n",
    "#from ase.build import molecule\n",
    "#from ase.neb import NEB\n",
    "#from ase.calculators.mopac import MOPAC\n",
    "from ase.md.langevin import Langevin\n",
    "from ase.io.trajectory import Trajectory\n",
    "from ase import units\n",
    "\n",
    "from ase.optimize.fire import FIRE as QuasiNewton\n",
    "\n",
    "from ase.md.nvtberendsen import NVTBerendsen\n",
    "from ase.md.verlet import VelocityVerlet\n",
    "from ase.md import MDLogger\n",
    "\n",
    "#from ase.neb import NEBtools\n",
    "from ase.io import read, write\n",
    "from ase.optimize import BFGS, LBFGS \n",
    "\n",
    "#0.0252235"
   ]
  },
  {
   "cell_type": "markdown",
   "metadata": {},
   "source": [
    "#### Load the benzene molecule from the xyz"
   ]
  },
  {
   "cell_type": "code",
   "execution_count": 3,
   "metadata": {},
   "outputs": [],
   "source": [
    "bz = read('/home/jujuman/Gits/ASE_ANI/examples/data/bz.xyz')"
   ]
  },
  {
   "cell_type": "markdown",
   "metadata": {},
   "source": [
    "#### Set ANI ensemble calculator"
   ]
  },
  {
   "cell_type": "code",
   "execution_count": 4,
   "metadata": {},
   "outputs": [],
   "source": [
    "# Current ANI model options are:\n",
    "# '../ani_models/ani-1ccx_8x.info' Coupled cluster transfer learned model\n",
    "# '../ani_models/ani-1x_8x.info'   Full ANI-1x wb97x/6-31g* dataset model\n",
    "bz.set_calculator(ANIENS(aniensloader('../ani_models/ani-1ccx_8x.info',0,multigpu=False)))"
   ]
  },
  {
   "cell_type": "code",
   "execution_count": 5,
   "metadata": {},
   "outputs": [],
   "source": [
    "# Bias - parabola\n",
    "weight_f=200.0\n",
    "mult_const_f = 1.0\n",
    "const_f = 0.8\n",
    "\n",
    "weight_e=0.0\n",
    "mult_const_e = 1.0\n",
    "const_e = 0.14\n",
    "\n",
    "def bias_Efunc(sigma_f):\n",
    "    #print(\"sigma \"+str(sigma))\n",
    "    return weight_f * (np.power((mult_const_f*sigma_f-const_f),2))\n",
    "\n",
    "# Force bias function\n",
    "def bias_Ffunc(sigma_f, dsigma):\n",
    "    #print(sigma_e)\n",
    "    return -weight_f *2*(mult_const_f*sigma_f-const_f)*mult_const_f* dsigma\n",
    "\n",
    "# Set the bias potential\n",
    "bz.calc.set_sigmabias(bias_Efunc, bias_Ffunc, epsilon=0.001, disable_ani=False)"
   ]
  },
  {
   "cell_type": "code",
   "execution_count": 6,
   "metadata": {},
   "outputs": [
    {
     "name": "stdout",
     "output_type": "stream",
     "text": [
      "!ANI disabled!\n",
      "!ANI disabled!\n",
      "!ANI disabled!\n",
      "!ANI disabled!\n",
      "!ANI disabled!\n",
      "!ANI disabled!\n",
      "!ANI disabled!\n",
      "!ANI disabled!\n",
      "!ANI disabled!\n",
      "!ANI disabled!\n",
      "!ANI disabled!\n",
      "!ANI disabled!\n",
      "!ANI disabled!\n",
      "!ANI disabled!\n",
      "!ANI disabled!\n",
      "!ANI disabled!\n",
      "!ANI disabled!\n",
      "!ANI disabled!\n",
      "!ANI disabled!\n",
      "!ANI disabled!\n",
      "!ANI disabled!\n",
      "!ANI disabled!\n",
      "!ANI disabled!\n",
      "!ANI disabled!\n",
      "!ANI disabled!\n",
      "!ANI disabled!\n",
      "!ANI disabled!\n",
      "!ANI disabled!\n",
      "!ANI disabled!\n",
      "!ANI disabled!\n",
      "!ANI disabled!\n",
      "!ANI disabled!\n",
      "!ANI disabled!\n",
      "!ANI disabled!\n",
      "!ANI disabled!\n",
      "!ANI disabled!\n",
      "!ANI disabled!\n",
      "!ANI disabled!\n",
      "!ANI disabled!\n",
      "!ANI disabled!\n",
      "!ANI disabled!\n",
      "!ANI disabled!\n",
      "!ANI disabled!\n",
      "!ANI disabled!\n",
      "!ANI disabled!\n",
      "!ANI disabled!\n",
      "!ANI disabled!\n",
      "!ANI disabled!\n",
      "!ANI disabled!\n",
      "!ANI disabled!\n",
      "!ANI disabled!\n",
      "!ANI disabled!\n",
      "!ANI disabled!\n",
      "!ANI disabled!\n",
      "!ANI disabled!\n",
      "!ANI disabled!\n",
      "!ANI disabled!\n",
      "!ANI disabled!\n",
      "!ANI disabled!\n",
      "!ANI disabled!\n",
      "!ANI disabled!\n",
      "!ANI disabled!\n",
      "!ANI disabled!\n",
      "!ANI disabled!\n",
      "!ANI disabled!\n",
      "!ANI disabled!\n",
      "!ANI disabled!\n",
      "!ANI disabled!\n",
      "!ANI disabled!\n",
      "!ANI disabled!\n",
      "!ANI disabled!\n",
      "!ANI disabled!\n"
     ]
    }
   ],
   "source": [
    "Fn = bz.calc.calculate_numerical_forces(bz, d=0.001)"
   ]
  },
  {
   "cell_type": "code",
   "execution_count": null,
   "metadata": {},
   "outputs": [],
   "source": []
  },
  {
   "cell_type": "code",
   "execution_count": 7,
   "metadata": {},
   "outputs": [
    {
     "name": "stdout",
     "output_type": "stream",
     "text": [
      "!ANI disabled!\n",
      "!ANI disabled!\n"
     ]
    }
   ],
   "source": [
    "bz.get_potential_energy()\n",
    "Fa = bz.get_forces()"
   ]
  },
  {
   "cell_type": "code",
   "execution_count": 8,
   "metadata": {},
   "outputs": [
    {
     "data": {
      "text/plain": [
       "0.15298406203490889"
      ]
     },
     "execution_count": 8,
     "metadata": {},
     "output_type": "execute_result"
    }
   ],
   "source": [
    "np.mean(np.abs(Fn-Fa))"
   ]
  },
  {
   "cell_type": "code",
   "execution_count": 9,
   "metadata": {},
   "outputs": [
    {
     "data": {
      "text/plain": [
       "0.0036703024661835504"
      ]
     },
     "execution_count": 9,
     "metadata": {},
     "output_type": "execute_result"
    }
   ],
   "source": [
    "np.mean(np.sum(Fa,axis=0))"
   ]
  },
  {
   "cell_type": "code",
   "execution_count": 10,
   "metadata": {},
   "outputs": [
    {
     "data": {
      "text/plain": [
       "0.0031181799992433903"
      ]
     },
     "execution_count": 10,
     "metadata": {},
     "output_type": "execute_result"
    }
   ],
   "source": [
    "np.mean(np.sum(Fn,axis=0))"
   ]
  },
  {
   "cell_type": "code",
   "execution_count": 11,
   "metadata": {},
   "outputs": [
    {
     "data": {
      "text/plain": [
       "array([[ 7.71753351e-02, -5.08433895e-01, -8.56483095e-02],\n",
       "       [-1.58531727e-01,  4.01634824e-01,  2.97741904e-01],\n",
       "       [-3.86430982e-03,  3.61772251e-01, -9.55308068e-02],\n",
       "       [-8.43971601e-02, -1.11241443e-01,  2.27677533e-01],\n",
       "       [-6.10687651e-02,  5.95349192e-01, -1.26825381e-01],\n",
       "       [ 1.44246450e-01, -4.49146830e-01, -1.73323798e-01],\n",
       "       [-2.09126074e-01, -3.84913766e+00,  2.59256784e+00],\n",
       "       [ 1.17838090e+00, -4.43401045e+00, -2.07093352e+00],\n",
       "       [-1.33910213e+00,  2.35227983e-01,  4.66308167e+00],\n",
       "       [-1.11205414e+00,  4.36472211e+00,  1.90573032e+00],\n",
       "       [ 2.20166677e-01,  3.64762340e+00, -2.52755558e+00],\n",
       "       [ 1.29739451e+00, -2.65194201e-01, -4.53435581e+00]])"
      ]
     },
     "execution_count": 11,
     "metadata": {},
     "output_type": "execute_result"
    }
   ],
   "source": [
    "Fa"
   ]
  },
  {
   "cell_type": "code",
   "execution_count": 12,
   "metadata": {},
   "outputs": [
    {
     "data": {
      "text/plain": [
       "array([[ 1.34828897e-02,  7.53163931e-05, -1.27518101e-02],\n",
       "       [-1.71881034e-02,  2.75226057e-04,  1.26668162e-02],\n",
       "       [ 1.39555909e-02, -9.18555565e-03,  1.59417575e-02],\n",
       "       [ 1.71302313e-02, -6.51394384e-03, -1.40051779e-02],\n",
       "       [-1.03398970e-02,  6.53552547e-03,  1.77864788e-02],\n",
       "       [-1.27673200e-02,  1.49428547e-02, -1.81995943e-02],\n",
       "       [-2.20795595e-01, -4.04670989e+00,  2.68493060e+00],\n",
       "       [ 1.11019139e+00, -4.34263897e+00, -1.94004482e+00],\n",
       "       [-1.33174848e+00,  2.76354355e-01,  4.71360914e+00],\n",
       "       [-1.11303233e+00,  4.34925672e+00,  1.94269341e+00],\n",
       "       [ 2.20367242e-01,  4.04246572e+00, -2.68599496e+00],\n",
       "       [ 1.33179173e+00, -2.76508681e-01, -4.71667332e+00]])"
      ]
     },
     "execution_count": 12,
     "metadata": {},
     "output_type": "execute_result"
    }
   ],
   "source": [
    "Fn"
   ]
  },
  {
   "cell_type": "code",
   "execution_count": null,
   "metadata": {},
   "outputs": [],
   "source": [
    "-0.21560924*2"
   ]
  },
  {
   "cell_type": "markdown",
   "metadata": {},
   "source": [
    "#### Helper functions"
   ]
  },
  {
   "cell_type": "code",
   "execution_count": null,
   "metadata": {},
   "outputs": [],
   "source": [
    "def unit_vector(vector):\n",
    "    return vector / np.linalg.norm(vector)\n",
    "\n",
    "def angle_between(v1, v2):\n",
    "    return np.arccos(np.clip(np.dot(unit_vector(v1), unit_vector(v2)), -1.0, 1.0))"
   ]
  },
  {
   "cell_type": "markdown",
   "metadata": {},
   "source": [
    "#### Run Optimization"
   ]
  },
  {
   "cell_type": "code",
   "execution_count": null,
   "metadata": {},
   "outputs": [],
   "source": [
    "# X = bz.get_positions()\n",
    "# eqdist = np.linalg.norm(X[0]-X[1])\n",
    "# eqenrg = bz.get_potential_energy()\n",
    "# eqangl = angle_between(X[0]-X[1],X[0]-X[2])\n",
    "# print('Distances: ',np.array([np.linalg.norm(X[0]-X[1]),\n",
    "#                     np.linalg.norm(X[0]-X[2]),\n",
    "#                     np.linalg.norm(X[0]-X[3]),\n",
    "#                     np.linalg.norm(X[0]-X[4])]))\n",
    "# print('Angles: ',np.array([57.2958*angle_between(X[0]-X[1],X[0]-X[2]),\n",
    "#                  57.2958*angle_between(X[0]-X[1],X[0]-X[3]),\n",
    "#                  57.2958*angle_between(X[0]-X[1],X[0]-X[4]),\n",
    "#                  57.2958*angle_between(X[0]-X[2],X[0]-X[3]),\n",
    "#                  57.2958*angle_between(X[0]-X[2],X[0]-X[4]),\n",
    "#                  57.2958*angle_between(X[0]-X[3],X[0]-X[4])]))\n",
    "\n",
    "# start_time = time.time()\n",
    "# dyn = LBFGS(bz)\n",
    "# dyn.run(fmax=0.001)\n",
    "# print('[ANI Total time:', time.time() - start_time, 'seconds]')\n",
    "\n",
    "# X = bz.get_positions()\n",
    "# eqdist = np.linalg.norm(X[0]-X[1])\n",
    "# eqenrg = bz.get_potential_energy()\n",
    "# eqangl = angle_between(X[0]-X[1],X[0]-X[2])\n",
    "# print('Distances: ',np.array([np.linalg.norm(X[0]-X[1]),\n",
    "#                     np.linalg.norm(X[0]-X[2]),\n",
    "#                     np.linalg.norm(X[0]-X[3]),\n",
    "#                     np.linalg.norm(X[0]-X[4])]))\n",
    "# print('Angles: ',np.array([57.2958*angle_between(X[0]-X[1],X[0]-X[2]),\n",
    "#                  57.2958*angle_between(X[0]-X[1],X[0]-X[3]),\n",
    "#                  57.2958*angle_between(X[0]-X[1],X[0]-X[4]),\n",
    "#                  57.2958*angle_between(X[0]-X[2],X[0]-X[3]),\n",
    "#                  57.2958*angle_between(X[0]-X[2],X[0]-X[4]),\n",
    "#                  57.2958*angle_between(X[0]-X[3],X[0]-X[4])]))"
   ]
  },
  {
   "cell_type": "markdown",
   "metadata": {},
   "source": [
    "#### Setup dynamics"
   ]
  },
  {
   "cell_type": "code",
   "execution_count": null,
   "metadata": {},
   "outputs": [],
   "source": [
    "# Temperature\n",
    "T = 300.0\n",
    "\n",
    "# Time step\n",
    "dt = 1.0\n",
    "\n",
    "# We want to run MD with constant energy using the Langevin algorithm\n",
    "# with a time step of 5 fs, the temperature T and the friction\n",
    "# coefficient to 0.02 atomic units.\n",
    "#dyn = Langevin(bz, dt * units.fs, T * units.kB, 0.01)\n",
    "dyn = VelocityVerlet(bz, dt=0.5 * units.fs)"
   ]
  },
  {
   "cell_type": "markdown",
   "metadata": {},
   "source": [
    "#### Setup printer function"
   ]
  },
  {
   "cell_type": "code",
   "execution_count": null,
   "metadata": {},
   "outputs": [],
   "source": [
    "CHdist = []\n",
    "CHHang = []\n",
    "energy = []\n",
    "temper = []\n",
    "toteng = []\n",
    "\n",
    "def printenergy(a=bz,b=dyn,c=CHdist,d=CHHang,e=energy,t=temper,et=toteng):  # store a reference to atoms in the definition.\n",
    "    \"\"\"Function to print the potential, kinetic and total energy.\"\"\"\n",
    "    epot = a.get_potential_energy() / len(a)\n",
    "    ekin = a.get_kinetic_energy() / len(a)\n",
    "    print('Step: %i Energy per atom: Epot = %.3feV  Ekin = %.3feV (T=%3.0fK)  '\n",
    "          'Etot = %.7feV' % (dyn.get_number_of_steps(),epot, ekin, ekin / (1.5 * units.kB), epot + ekin))\n",
    "    \n",
    "    X = a.get_positions()\n",
    "    \n",
    "    c.append([dt*dyn.get_number_of_steps(),np.linalg.norm(X[0]-X[1]),np.linalg.norm(X[0]-X[2]),np.linalg.norm(X[0]-X[3]),np.linalg.norm(X[0]-X[4])])\n",
    "    d.append([dt*dyn.get_number_of_steps(),angle_between(X[0]-X[1],X[0]-X[2]),angle_between(X[0]-X[1],X[0]-X[3]),angle_between(X[0]-X[1],X[0]-X[4]),angle_between(X[0]-X[2],X[0]-X[3]),angle_between(X[0]-X[2],X[0]-X[4]),angle_between(X[0]-X[3],X[0]-X[4])])\n",
    "    e.append([dt*dyn.get_number_of_steps(),a.get_potential_energy()])\n",
    "    t.append([dt*dyn.get_number_of_steps(),ekin / (1.5 * units.kB)])\n",
    "    et.append([dt*dyn.get_number_of_steps(),epot + ekin])\n",
    "    \n",
    "    \n",
    "dyn.attach(printenergy, interval=25)\n",
    "printenergy()"
   ]
  },
  {
   "cell_type": "markdown",
   "metadata": {},
   "source": [
    "#### Run 2000 steps of MD"
   ]
  },
  {
   "cell_type": "code",
   "execution_count": null,
   "metadata": {},
   "outputs": [],
   "source": [
    "start_time = time.time()\n",
    "dyn.run(2000) # Do 1ps of MD\n",
    "print('[ANI Total time:', time.time() - start_time, 'seconds]')\n",
    "\n",
    "CHdist = np.vstack(CHdist)\n",
    "CHHang = np.vstack(CHHang)\n",
    "temper = np.vstack(temper)\n",
    "energy = np.vstack(energy)\n",
    "toteng = np.vstack(toteng)"
   ]
  },
  {
   "cell_type": "code",
   "execution_count": null,
   "metadata": {},
   "outputs": [],
   "source": [
    "import matplotlib.pyplot as plt"
   ]
  },
  {
   "cell_type": "code",
   "execution_count": null,
   "metadata": {},
   "outputs": [],
   "source": [
    "fig = plt.figure(figsize=(10,5),dpi=300)\n",
    "plt.plot(CHdist[:,0]/1000,CHdist[:,1],label=\"Distance 1\",alpha=0.5)\n",
    "plt.plot(CHdist[:,0]/1000,CHdist[:,2],label=\"Distance 2\",alpha=0.5)\n",
    "plt.plot(CHdist[:,0]/1000,CHdist[:,3],label=\"Distance 3\",alpha=0.5)\n",
    "plt.plot(CHdist[:,0]/1000,CHdist[:,4],label=\"Distance 4\",alpha=0.5)\n",
    "#plt.hlines(eqdist,0,(CHdist[:,0]/1000).max(),linestyle='--',zorder=100)\n",
    "\n",
    "plt.legend()\n",
    "\n",
    "plt.xlabel(\"Simulation Time (ps)\")\n",
    "plt.ylabel(r\"C-H Distance ($\\AA$)\")\n",
    "plt.show()"
   ]
  },
  {
   "cell_type": "code",
   "execution_count": null,
   "metadata": {},
   "outputs": [],
   "source": [
    "fig = plt.figure(figsize=(10,5),dpi=300)\n",
    "plt.hist(CHdist[:,1],bins=50,label=\"Distance 1\",alpha=0.5)\n",
    "plt.hist(CHdist[:,2],bins=50,label=\"Distance 2\",alpha=0.5)\n",
    "plt.hist(CHdist[:,3],bins=50,label=\"Distance 3\",alpha=0.5)\n",
    "plt.hist(CHdist[:,4],bins=50,label=\"Distance 4\",alpha=0.5)\n",
    "#plt.vlines(eqdist,0,700,linestyle='--',zorder=100)\n",
    "\n",
    "plt.legend()\n",
    "\n",
    "plt.ylabel(\"Count\")\n",
    "plt.xlabel(r\"C-H Distance ($\\AA$)\")\n",
    "plt.show()"
   ]
  },
  {
   "cell_type": "code",
   "execution_count": null,
   "metadata": {},
   "outputs": [],
   "source": [
    "fig = plt.figure(figsize=(10,5),dpi=300)\n",
    "plt.plot(CHHang[:,0]/1000,57.2958*CHHang[:,1],label=\"Angle 1\",alpha=0.5)\n",
    "plt.plot(CHHang[:,0]/1000,57.2958*CHHang[:,2],label=\"Angle 2\",alpha=0.5)\n",
    "plt.plot(CHHang[:,0]/1000,57.2958*CHHang[:,3],label=\"Angle 3\",alpha=0.5)\n",
    "plt.plot(CHHang[:,0]/1000,57.2958*CHHang[:,4],label=\"Angle 4\",alpha=0.5)\n",
    "plt.plot(CHHang[:,0]/1000,57.2958*CHHang[:,5],label=\"Angle 5\",alpha=0.5)\n",
    "plt.plot(CHHang[:,0]/1000,57.2958*CHHang[:,6],label=\"Angle 6\",alpha=0.5)\n",
    "\n",
    "#plt.hlines(57.2958*eqangl,0,(CHHang[:,0]/1000).max(),linestyle='--',zorder=100)\n",
    "\n",
    "plt.legend()\n",
    "\n",
    "plt.xlabel(\"Simulation Time (ps)\")\n",
    "plt.ylabel(r\"H-C-H Angle (Degrees)\")\n",
    "plt.show()"
   ]
  },
  {
   "cell_type": "code",
   "execution_count": null,
   "metadata": {},
   "outputs": [],
   "source": [
    "fig = plt.figure(figsize=(10,5),dpi=300)\n",
    "plt.hist(57.2958*CHHang[:,1],bins=50,label=\"Angle 1\",alpha=0.5)\n",
    "plt.hist(57.2958*CHHang[:,2],bins=50,label=\"Angle 2\",alpha=0.5)\n",
    "plt.hist(57.2958*CHHang[:,3],bins=50,label=\"Angle 3\",alpha=0.5)\n",
    "plt.hist(57.2958*CHHang[:,4],bins=50,label=\"Angle 4\",alpha=0.5)\n",
    "plt.hist(57.2958*CHHang[:,5],bins=50,label=\"Angle 5\",alpha=0.5)\n",
    "plt.hist(57.2958*CHHang[:,6],bins=50,label=\"Angle 6\",alpha=0.5)\n",
    "\n",
    "\n",
    "#plt.vlines(57.2958*eqangl,0,670,linestyle='--',zorder=100)\n",
    "\n",
    "plt.legend()\n",
    "\n",
    "plt.ylabel(\"Count\")\n",
    "plt.xlabel(r\"H-C-H Angle (Degrees)\")\n",
    "plt.show()"
   ]
  },
  {
   "cell_type": "code",
   "execution_count": null,
   "metadata": {},
   "outputs": [],
   "source": [
    "fig = plt.figure(figsize=(10,5),dpi=300)\n",
    "plt.plot(energy[:,0]/1000,energy[:,1])\n",
    "#plt.hlines(energy,0,(energy[:,0]/1000).max(),linestyle='--',zorder=100)\n",
    "\n",
    "plt.xlabel(\"Simulation Time (ps)\")\n",
    "plt.ylabel(r\"Potential energy (eV)\")\n",
    "plt.show()"
   ]
  },
  {
   "cell_type": "code",
   "execution_count": null,
   "metadata": {},
   "outputs": [],
   "source": [
    "fig = plt.figure(figsize=(10,5),dpi=300)\n",
    "plt.plot(temper[:,0]/1000,temper[:,1])\n",
    "plt.hlines(300.0,0,(temper[:,0]/1000).max(),linestyle='--',zorder=100)\n",
    "\n",
    "plt.xlabel(\"Simulation Time (ps)\")\n",
    "plt.ylabel(r\"Temperature (K)\")\n",
    "plt.show()"
   ]
  },
  {
   "cell_type": "code",
   "execution_count": null,
   "metadata": {},
   "outputs": [],
   "source": [
    "fig = plt.figure(figsize=(10,5),dpi=300)\n",
    "plt.plot(toteng[:,0]/1000,toteng[:,1])\n",
    "#plt.hlines(toteng,0,(toteng[:,0]/1000).max(),linestyle='--',zorder=100)\n",
    "\n",
    "plt.xlabel(\"Simulation Time (ps)\")\n",
    "plt.ylabel(r\"Total E energy (eV)\")\n",
    "plt.show()"
   ]
  },
  {
   "cell_type": "code",
   "execution_count": null,
   "metadata": {},
   "outputs": [],
   "source": []
  },
  {
   "cell_type": "code",
   "execution_count": null,
   "metadata": {},
   "outputs": [],
   "source": []
  },
  {
   "cell_type": "code",
   "execution_count": null,
   "metadata": {},
   "outputs": [],
   "source": []
  },
  {
   "cell_type": "code",
   "execution_count": null,
   "metadata": {},
   "outputs": [],
   "source": []
  }
 ],
 "metadata": {
  "anaconda-cloud": {},
  "kernelspec": {
   "display_name": "Python 3",
   "language": "python",
   "name": "python3"
  },
  "language_info": {
   "codemirror_mode": {
    "name": "ipython",
    "version": 3
   },
   "file_extension": ".py",
   "mimetype": "text/x-python",
   "name": "python",
   "nbconvert_exporter": "python",
   "pygments_lexer": "ipython3",
   "version": "3.6.10"
  }
 },
 "nbformat": 4,
 "nbformat_minor": 1
}
