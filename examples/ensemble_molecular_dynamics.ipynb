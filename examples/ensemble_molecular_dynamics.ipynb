{
 "cells": [
  {
   "cell_type": "markdown",
   "metadata": {},
   "source": [
    "### Set path to original pyNeuroChem. Please change to your own path"
   ]
  },
  {
   "cell_type": "markdown",
   "metadata": {},
   "source": [
    "#### Import required libraries"
   ]
  },
  {
   "cell_type": "code",
   "execution_count": 1,
   "metadata": {},
   "outputs": [],
   "source": [
    "import sys\n",
    "#sys.path.append('/home/olexandr/notebooks/ASE_ANI/lib')\n",
    "from ase_interface import ANIENS\n",
    "from ase_interface import aniensloader\n",
    "from ase_interface import ANIENS,ensemblemolecule"
   ]
  },
  {
   "cell_type": "code",
   "execution_count": 2,
   "metadata": {},
   "outputs": [],
   "source": [
    "import numpy as np\n",
    "import  ase\n",
    "import time\n",
    "#from ase.build import molecule\n",
    "#from ase.neb import NEB\n",
    "#from ase.calculators.mopac import MOPAC\n",
    "from ase.md.langevin import Langevin\n",
    "from ase.io.trajectory import Trajectory\n",
    "from ase import units\n",
    "\n",
    "from ase.optimize.fire import FIRE as QuasiNewton\n",
    "\n",
    "from ase.md.nvtberendsen import NVTBerendsen\n",
    "from ase.md.verlet import VelocityVerlet\n",
    "from ase.md.velocitydistribution import MaxwellBoltzmannDistribution\n",
    "from ase.md import MDLogger\n",
    "\n",
    "#from ase.neb import NEBtools\n",
    "from ase.io import read, write\n",
    "from ase.optimize import BFGS, LBFGS \n",
    "\n",
    "np.random.seed(0)\n",
    "#0.0252235"
   ]
  },
  {
   "cell_type": "markdown",
   "metadata": {},
   "source": [
    "#### Load the benzene molecule from the xyz"
   ]
  },
  {
   "cell_type": "code",
   "execution_count": 3,
   "metadata": {},
   "outputs": [],
   "source": [
    "bz = read('/home/jujuman/Scratch/Research/UQ_MD_BASELINE/7h_mode5_sub_sc1.0.xyz')"
   ]
  },
  {
   "cell_type": "markdown",
   "metadata": {},
   "source": [
    "#### Set ANI ensemble calculator"
   ]
  },
  {
   "cell_type": "code",
   "execution_count": 4,
   "metadata": {},
   "outputs": [],
   "source": [
    "# Current ANI model options are:\n",
    "# '../ani_models/ani-1ccx_8x.info' Coupled cluster transfer learned model\n",
    "# '../ani_models/ani-1x_8x.info'   Full ANI-1x wb97x/6-31g* dataset model\n",
    "bz.set_calculator(ANIENS(aniensloader('../ani_models/ani-1x_8x.info',1,multigpu=False)))"
   ]
  },
  {
   "cell_type": "code",
   "execution_count": 5,
   "metadata": {},
   "outputs": [
    {
     "name": "stdout",
     "output_type": "stream",
     "text": [
      "LBFGS:    1 21:10:40    -8931.251802        1.8294\n",
      "LBFGS:    2 21:10:40    -8931.380481        1.1020\n",
      "LBFGS:    3 21:10:40    -8931.408465        0.4702\n",
      "LBFGS:    4 21:10:40    -8931.438847        0.5854\n",
      "LBFGS:    5 21:10:40    -8931.454194        0.5728\n",
      "LBFGS:    6 21:10:40    -8931.485953        0.4315\n",
      "LBFGS:    7 21:10:40    -8931.512323        0.5727\n",
      "LBFGS:    8 21:10:40    -8931.537819        0.4313\n",
      "LBFGS:    9 21:10:40    -8931.558722        0.3966\n",
      "LBFGS:   10 21:10:40    -8931.572938        0.3132\n",
      "LBFGS:   11 21:10:40    -8931.585572        0.2721\n",
      "LBFGS:   12 21:10:40    -8931.595713        0.2846\n",
      "LBFGS:   13 21:10:41    -8931.605590        0.3260\n",
      "LBFGS:   14 21:10:41    -8931.616480        0.2734\n",
      "LBFGS:   15 21:10:41    -8931.628438        0.3285\n",
      "LBFGS:   16 21:10:41    -8931.636979        0.2168\n",
      "LBFGS:   17 21:10:41    -8931.642141        0.1391\n",
      "LBFGS:   18 21:10:41    -8931.645638        0.1483\n",
      "LBFGS:   19 21:10:41    -8931.649606        0.2085\n",
      "LBFGS:   20 21:10:41    -8931.654413        0.2090\n",
      "LBFGS:   21 21:10:41    -8931.659183        0.1822\n",
      "LBFGS:   22 21:10:41    -8931.662930        0.1438\n",
      "LBFGS:   23 21:10:41    -8931.665896        0.1327\n",
      "LBFGS:   24 21:10:41    -8931.668978        0.1331\n",
      "LBFGS:   25 21:10:41    -8931.672447        0.1369\n",
      "LBFGS:   26 21:10:41    -8931.675981        0.1492\n",
      "LBFGS:   27 21:10:41    -8931.678630        0.1247\n",
      "LBFGS:   28 21:10:41    -8931.680659        0.1271\n",
      "LBFGS:   29 21:10:41    -8931.682367        0.1010\n",
      "LBFGS:   30 21:10:41    -8931.683962        0.0671\n",
      "LBFGS:   31 21:10:41    -8931.684765        0.0609\n",
      "LBFGS:   32 21:10:41    -8931.685362        0.0540\n",
      "LBFGS:   33 21:10:41    -8931.685791        0.0414\n",
      "LBFGS:   34 21:10:41    -8931.686126        0.0360\n",
      "LBFGS:   35 21:10:41    -8931.686353        0.0364\n",
      "LBFGS:   36 21:10:41    -8931.686566        0.0379\n",
      "LBFGS:   37 21:10:41    -8931.686801        0.0448\n",
      "LBFGS:   38 21:10:41    -8931.687008        0.0314\n",
      "LBFGS:   39 21:10:41    -8931.687147        0.0266\n",
      "LBFGS:   40 21:10:41    -8931.687251        0.0241\n",
      "LBFGS:   41 21:10:41    -8931.687381        0.0262\n",
      "LBFGS:   42 21:10:41    -8931.687564        0.0380\n",
      "LBFGS:   43 21:10:41    -8931.687764        0.0381\n",
      "LBFGS:   44 21:10:41    -8931.687919        0.0363\n",
      "LBFGS:   45 21:10:41    -8931.688030        0.0252\n",
      "LBFGS:   46 21:10:41    -8931.688131        0.0219\n",
      "LBFGS:   47 21:10:41    -8931.688223        0.0243\n",
      "LBFGS:   48 21:10:41    -8931.688305        0.0216\n",
      "LBFGS:   49 21:10:41    -8931.688381        0.0241\n",
      "LBFGS:   50 21:10:41    -8931.688473        0.0228\n",
      "LBFGS:   51 21:10:41    -8931.688592        0.0305\n",
      "LBFGS:   52 21:10:41    -8931.688708        0.0229\n",
      "LBFGS:   53 21:10:41    -8931.688784        0.0224\n",
      "LBFGS:   54 21:10:41    -8931.688848        0.0230\n",
      "LBFGS:   55 21:10:41    -8931.688914        0.0225\n",
      "LBFGS:   56 21:10:41    -8931.688991        0.0227\n",
      "LBFGS:   57 21:10:41    -8931.689057        0.0173\n",
      "LBFGS:   58 21:10:41    -8931.689106        0.0176\n",
      "LBFGS:   59 21:10:41    -8931.689148        0.0166\n",
      "LBFGS:   60 21:10:41    -8931.689189        0.0150\n",
      "LBFGS:   61 21:10:41    -8931.689223        0.0113\n",
      "LBFGS:   62 21:10:41    -8931.689247        0.0121\n",
      "LBFGS:   63 21:10:41    -8931.689267        0.0107\n",
      "LBFGS:   64 21:10:41    -8931.689288        0.0125\n",
      "LBFGS:   65 21:10:41    -8931.689308        0.0115\n",
      "LBFGS:   66 21:10:41    -8931.689329        0.0105\n",
      "LBFGS:   67 21:10:41    -8931.689351        0.0118\n",
      "LBFGS:   68 21:10:41    -8931.689374        0.0112\n",
      "LBFGS:   69 21:10:41    -8931.689394        0.0089\n",
      "LBFGS:   70 21:10:41    -8931.689409        0.0084\n",
      "LBFGS:   71 21:10:41    -8931.689417        0.0069\n",
      "LBFGS:   72 21:10:41    -8931.689430        0.0088\n",
      "LBFGS:   73 21:10:41    -8931.689443        0.0085\n",
      "LBFGS:   74 21:10:41    -8931.689453        0.0081\n",
      "LBFGS:   75 21:10:41    -8931.689461        0.0087\n",
      "LBFGS:   76 21:10:41    -8931.689468        0.0081\n",
      "LBFGS:   77 21:10:41    -8931.689482        0.0110\n",
      "LBFGS:   78 21:10:41    -8931.689495        0.0094\n",
      "LBFGS:   79 21:10:41    -8931.689507        0.0098\n",
      "LBFGS:   80 21:10:41    -8931.689518        0.0089\n",
      "LBFGS:   81 21:10:41    -8931.689528        0.0082\n",
      "LBFGS:   82 21:10:41    -8931.689535        0.0074\n",
      "LBFGS:   83 21:10:41    -8931.689539        0.0039\n",
      "LBFGS:   84 21:10:41    -8931.689544        0.0032\n",
      "LBFGS:   85 21:10:41    -8931.689544        0.0031\n",
      "LBFGS:   86 21:10:41    -8931.689546        0.0033\n",
      "LBFGS:   87 21:10:41    -8931.689546        0.0035\n",
      "LBFGS:   88 21:10:41    -8931.689549        0.0036\n",
      "LBFGS:   89 21:10:41    -8931.689551        0.0031\n",
      "LBFGS:   90 21:10:41    -8931.689551        0.0042\n",
      "LBFGS:   91 21:10:41    -8931.689554        0.0034\n",
      "LBFGS:   92 21:10:41    -8931.689556        0.0033\n",
      "LBFGS:   93 21:10:41    -8931.689558        0.0028\n",
      "LBFGS:   94 21:10:41    -8931.689558        0.0036\n",
      "LBFGS:   95 21:10:41    -8931.689560        0.0040\n",
      "LBFGS:   96 21:10:41    -8931.689562        0.0034\n",
      "LBFGS:   97 21:10:41    -8931.689564        0.0033\n",
      "LBFGS:   98 21:10:41    -8931.689567        0.0043\n",
      "LBFGS:   99 21:10:41    -8931.689570        0.0062\n",
      "LBFGS:  100 21:10:41    -8931.689576        0.0075\n",
      "LBFGS:  101 21:10:41    -8931.689582        0.0073\n",
      "LBFGS:  102 21:10:41    -8931.689589        0.0056\n",
      "LBFGS:  103 21:10:41    -8931.689594        0.0052\n",
      "LBFGS:  104 21:10:41    -8931.689601        0.0081\n",
      "LBFGS:  105 21:10:41    -8931.689608        0.0077\n",
      "LBFGS:  106 21:10:41    -8931.689611        0.0040\n",
      "LBFGS:  107 21:10:41    -8931.689613        0.0024\n",
      "LBFGS:  108 21:10:41    -8931.689615        0.0020\n",
      "LBFGS:  109 21:10:41    -8931.689614        0.0018\n",
      "LBFGS:  110 21:10:41    -8931.689615        0.0015\n",
      "LBFGS:  111 21:10:41    -8931.689616        0.0014\n",
      "LBFGS:  112 21:10:42    -8931.689617        0.0016\n",
      "LBFGS:  113 21:10:42    -8931.689618        0.0019\n",
      "LBFGS:  114 21:10:42    -8931.689617        0.0017\n",
      "LBFGS:  115 21:10:42    -8931.689618        0.0017\n",
      "LBFGS:  116 21:10:42    -8931.689619        0.0019\n",
      "LBFGS:  117 21:10:42    -8931.689620        0.0032\n",
      "LBFGS:  118 21:10:42    -8931.689621        0.0040\n",
      "LBFGS:  119 21:10:42    -8931.689622        0.0034\n",
      "LBFGS:  120 21:10:42    -8931.689624        0.0029\n",
      "LBFGS:  121 21:10:42    -8931.689626        0.0023\n",
      "LBFGS:  122 21:10:42    -8931.689626        0.0017\n",
      "LBFGS:  123 21:10:42    -8931.689627        0.0016\n",
      "LBFGS:  124 21:10:42    -8931.689626        0.0011\n",
      "LBFGS:  125 21:10:42    -8931.689627        0.0008\n",
      "[ANI Total time: 1.3239922523498535 seconds]\n"
     ]
    }
   ],
   "source": [
    "start_time = time.time()\n",
    "dyn = LBFGS(bz)\n",
    "dyn.run(fmax=0.001)\n",
    "print('[ANI Total time:', time.time() - start_time, 'seconds]')"
   ]
  },
  {
   "cell_type": "code",
   "execution_count": 6,
   "metadata": {},
   "outputs": [],
   "source": [
    "# Bias - parabola\n",
    "# weight_f=100.0\n",
    "# mult_const_f = 1.0\n",
    "# const_f = 0.8\n",
    "\n",
    "# weight_e=0.0\n",
    "# mult_const_e = 1.0\n",
    "# const_e = 0.14\n",
    "\n",
    "# def bias_Efunc(sigma_f):\n",
    "#     #print(\"sigma \"+str(sigma))\n",
    "#     return weight_f * (np.power((mult_const_f*sigma_f-const_f),2))\n",
    "\n",
    "# # Force bias function\n",
    "# def bias_Ffunc(sigma_f, dsigma):\n",
    "#     #print(sigma_e)\n",
    "#     return -weight_f *2*(mult_const_f*sigma_f-const_f)*mult_const_f* dsigma\n",
    "\n",
    "# alpha = 1100\n",
    "# beta = 200\n",
    "\n",
    "# def bias_Efunc(x):\n",
    "#     return alpha*np.exp(-beta*x*x)\n",
    "\n",
    "# def bias_Ffunc(x,dx):\n",
    "#     dy = alpha*beta*2*x*np.exp(-beta*x*x)*dx\n",
    "#     return dy\n",
    "\n",
    "# # Set the bias potential\n",
    "# bz.calc.set_sigmabias(bias_Efunc, bias_Ffunc, epsilon=0.001, disable_ani=False)\n",
    "\n",
    "# def bias_Efunc(x):\n",
    "#     if x < 0.5:\n",
    "#         y = alpha*np.exp(-beta*x)\n",
    "#     else:\n",
    "#         y = 0\n",
    "#     return y\n",
    "\n",
    "# def bias_Ffunc(x,dx):\n",
    "#     if x < 0.5:\n",
    "#         dy = -alpha*beta*np.exp(-beta*x)*dx\n",
    "#     else:\n",
    "#         dy = 0*dx\n",
    "#     return dy\n",
    "\n",
    "\n",
    "#Ealpha = -4.0\n",
    "Ealpha = 0.4*0.0\n",
    "Ebeta = 1\n",
    "Egamma = 0.001\n",
    "\n",
    "Falpha = 0.4*0.0\n",
    "Fbeta = 1\n",
    "Fgamma = 0.01\n",
    "\n",
    "def bias_Efunc(Fx,Ex):\n",
    "    #print(Ex,-Ealpha*np.log(Ebeta*(0.01+Ex)),Fx,-Falpha*np.log(Fbeta*(0.01+Fx)))\n",
    "    return -Ealpha*np.log(Ebeta*(Egamma+Ex))-Falpha*np.log(Fbeta*(Fgamma+Fx))\n",
    "\n",
    "def bias_Ffunc(Fx,Fdx,Ex,Edx):\n",
    "    dy = Ealpha*Ebeta*(1.0/(Ebeta*(Egamma+Ex)))*Edx+Falpha*Fbeta*(1.0/(Fbeta*(Fgamma+Fx)))*Fdx\n",
    "    return dy\n",
    "\n",
    "#     def bias_Efunc(x):\n",
    "#         return alpha*np.exp(-beta*x*x)\n",
    "\n",
    "#     def bias_Ffunc(x,dx):\n",
    "#         dy = alpha*beta*2*x*np.exp(-beta*x*x)*dx\n",
    "#         return dy\n",
    "\n",
    "# Set the bias potential\n",
    "bz.calc.set_sigmabias(bias_Efunc, bias_Ffunc, epsilon=0.001, disable_ani=False)"
   ]
  },
  {
   "cell_type": "code",
   "execution_count": 7,
   "metadata": {},
   "outputs": [],
   "source": [
    "Fn = bz.calc.calculate_numerical_forces(bz, d=0.001)"
   ]
  },
  {
   "cell_type": "code",
   "execution_count": 8,
   "metadata": {},
   "outputs": [],
   "source": [
    "bz.get_potential_energy()\n",
    "Fa = bz.get_forces()"
   ]
  },
  {
   "cell_type": "code",
   "execution_count": 9,
   "metadata": {},
   "outputs": [
    {
     "data": {
      "text/plain": [
       "0.00016790597857288636"
      ]
     },
     "execution_count": 9,
     "metadata": {},
     "output_type": "execute_result"
    }
   ],
   "source": [
    "np.mean(np.abs(Fn-Fa))"
   ]
  },
  {
   "cell_type": "code",
   "execution_count": 10,
   "metadata": {},
   "outputs": [
    {
     "data": {
      "text/plain": [
       "-2.6826306333302597e-07"
      ]
     },
     "execution_count": 10,
     "metadata": {},
     "output_type": "execute_result"
    }
   ],
   "source": [
    "np.mean(np.sum(Fa,axis=0))"
   ]
  },
  {
   "cell_type": "code",
   "execution_count": 11,
   "metadata": {},
   "outputs": [
    {
     "data": {
      "text/plain": [
       "0.0006580812623724341"
      ]
     },
     "execution_count": 11,
     "metadata": {},
     "output_type": "execute_result"
    }
   ],
   "source": [
    "np.mean(np.sum(Fn,axis=0))"
   ]
  },
  {
   "cell_type": "code",
   "execution_count": 12,
   "metadata": {},
   "outputs": [],
   "source": [
    "import matplotlib.pyplot as plt"
   ]
  },
  {
   "cell_type": "code",
   "execution_count": 13,
   "metadata": {},
   "outputs": [
    {
     "data": {
      "text/plain": [
       "<matplotlib.collections.PathCollection at 0x7fa0fdd6fc18>"
      ]
     },
     "execution_count": 13,
     "metadata": {},
     "output_type": "execute_result"
    },
    {
     "data": {
      "image/png": "[encoded data removed]",
      "text/plain": [
       "<Figure size 432x288 with 1 Axes>"
      ]
     },
     "metadata": {
      "needs_background": "light"
     },
     "output_type": "display_data"
    }
   ],
   "source": [
    "plt.scatter(Fa.flatten(),Fn.flatten())"
   ]
  },
  {
   "cell_type": "markdown",
   "metadata": {},
   "source": [
    "#### Run Optimization"
   ]
  },
  {
   "cell_type": "code",
   "execution_count": 14,
   "metadata": {},
   "outputs": [],
   "source": [
    "# Temperature\n",
    "T = 300.0\n",
    "\n",
    "# Time step\n",
    "dt = 0.1\n",
    "\n",
    "#MaxwellBoltzmannDistribution(bz, 300.0 * units.kB)\n",
    "\n",
    "# We want to run MD with constant energy using the Langevin algorithm\n",
    "# with a time step of 5 fs, the temperature T and the friction\n",
    "# coefficient to 0.02 atomic units.\n",
    "dyn = Langevin(bz, dt * units.fs, T * units.kB, 0.01)\n",
    "#dyn = VelocityVerlet(bz, dt=0.5 * units.fs)"
   ]
  },
  {
   "cell_type": "markdown",
   "metadata": {},
   "source": [
    "#### Setup printer function"
   ]
  },
  {
   "cell_type": "code",
   "execution_count": 15,
   "metadata": {},
   "outputs": [
    {
     "name": "stdout",
     "output_type": "stream",
     "text": [
      "Step: 0 Energy/atom: Ep=-446.6eV  Ek=0.000eV (T=  0K)  Et=-446.6eV EV2=0.0048021 FV2=0.0760 alb=0.000 aln=0.000\n"
     ]
    }
   ],
   "source": [
    "Esigma = []\n",
    "Fsigma = []\n",
    "\n",
    "def printenergy(a=bz,b=dyn):  # store a reference to atoms in the definition.\n",
    "    \"\"\"Function to print the potential, kinetic and total energy.\"\"\"\n",
    "    epot = a.get_potential_energy() / len(a)\n",
    "    ekin = a.get_kinetic_energy() / len(a)\n",
    "    \n",
    "    Esig = a.calc.Estddev\n",
    "    Fsig = a.calc.Fstddev\n",
    "    \n",
    "    Fbia = a.calc.nc.intermediates['Fbias']\n",
    "    Fani = a.calc.nc.intermediates['Fele']\n",
    "    \n",
    "    E_v2 = a.calc.nc.intermediates['E_v2']\n",
    "    F_v2 = a.calc.nc.intermediates['F_v2']\n",
    "    \n",
    "    avg_len_b = np.mean(np.linalg.norm(Fbia,axis=1))\n",
    "    avg_len_n = np.mean(np.linalg.norm(Fani,axis=1))\n",
    "    \n",
    "    Esigma.append(Esig)\n",
    "    Fsigma.append(Fsig)\n",
    "    \n",
    "    print('Step: %i Energy/atom: Ep=%.1feV  Ek=%.3feV (T=%3.0fK)  '\n",
    "          'Et=%.1feV EV2=%.7f FV2=%.4f alb=%.3f aln=%.3f' % (dyn.get_number_of_steps(),epot, ekin, ekin / (1.5 * units.kB), epot + ekin, Esig, Fsig, avg_len_b, avg_len_n))\n",
    "    \n",
    "dyn.attach(printenergy, interval=25)\n",
    "printenergy()"
   ]
  },
  {
   "cell_type": "markdown",
   "metadata": {},
   "source": [
    "#### Run 2000 steps of MD"
   ]
  },
  {
   "cell_type": "code",
   "execution_count": 16,
   "metadata": {
    "scrolled": true
   },
   "outputs": [
    {
     "name": "stdout",
     "output_type": "stream",
     "text": [
      "Step: 25 Energy/atom: Ep=-446.6eV  Ek=0.000eV (T=  1K)  Et=-446.6eV EV2=0.0047566 FV2=0.0759 alb=0.000 aln=0.002\n",
      "Step: 50 Energy/atom: Ep=-446.6eV  Ek=0.000eV (T=  2K)  Et=-446.6eV EV2=0.0045282 FV2=0.0756 alb=0.000 aln=0.003\n",
      "Step: 75 Energy/atom: Ep=-446.6eV  Ek=0.000eV (T=  2K)  Et=-446.6eV EV2=0.0045368 FV2=0.0763 alb=0.000 aln=0.004\n",
      "Step: 100 Energy/atom: Ep=-446.6eV  Ek=0.000eV (T=  3K)  Et=-446.6eV EV2=0.0046784 FV2=0.0768 alb=0.000 aln=0.003\n",
      "Step: 125 Energy/atom: Ep=-446.6eV  Ek=0.000eV (T=  4K)  Et=-446.6eV EV2=0.0045936 FV2=0.0764 alb=0.000 aln=0.004\n",
      "Step: 150 Energy/atom: Ep=-446.6eV  Ek=0.001eV (T=  4K)  Et=-446.6eV EV2=0.0045329 FV2=0.0763 alb=0.000 aln=0.005\n",
      "Step: 175 Energy/atom: Ep=-446.6eV  Ek=0.001eV (T=  4K)  Et=-446.6eV EV2=0.0047597 FV2=0.0762 alb=0.000 aln=0.007\n",
      "Step: 200 Energy/atom: Ep=-446.6eV  Ek=0.001eV (T=  6K)  Et=-446.6eV EV2=0.0050738 FV2=0.0771 alb=0.000 aln=0.006\n",
      "Step: 225 Energy/atom: Ep=-446.6eV  Ek=0.001eV (T=  6K)  Et=-446.6eV EV2=0.0052604 FV2=0.0767 alb=0.000 aln=0.007\n",
      "Step: 250 Energy/atom: Ep=-446.6eV  Ek=0.001eV (T=  6K)  Et=-446.6eV EV2=0.0057040 FV2=0.0762 alb=0.000 aln=0.007\n",
      "Step: 275 Energy/atom: Ep=-446.6eV  Ek=0.001eV (T=  8K)  Et=-446.6eV EV2=0.0057468 FV2=0.0758 alb=0.000 aln=0.007\n",
      "Step: 300 Energy/atom: Ep=-446.6eV  Ek=0.001eV (T=  7K)  Et=-446.6eV EV2=0.0057958 FV2=0.0765 alb=0.000 aln=0.008\n",
      "Step: 325 Energy/atom: Ep=-446.6eV  Ek=0.001eV (T= 10K)  Et=-446.6eV EV2=0.0056879 FV2=0.0760 alb=0.000 aln=0.006\n",
      "Step: 350 Energy/atom: Ep=-446.6eV  Ek=0.001eV (T=  8K)  Et=-446.6eV EV2=0.0056513 FV2=0.0757 alb=0.000 aln=0.009\n",
      "Step: 375 Energy/atom: Ep=-446.6eV  Ek=0.001eV (T=  8K)  Et=-446.6eV EV2=0.0052840 FV2=0.0766 alb=0.000 aln=0.009\n",
      "Step: 400 Energy/atom: Ep=-446.6eV  Ek=0.001eV (T=  9K)  Et=-446.6eV EV2=0.0052936 FV2=0.0774 alb=0.000 aln=0.009\n",
      "Step: 425 Energy/atom: Ep=-446.6eV  Ek=0.001eV (T= 10K)  Et=-446.6eV EV2=0.0051715 FV2=0.0769 alb=0.000 aln=0.009\n",
      "Step: 450 Energy/atom: Ep=-446.6eV  Ek=0.002eV (T= 12K)  Et=-446.6eV EV2=0.0049382 FV2=0.0754 alb=0.000 aln=0.008\n",
      "Step: 475 Energy/atom: Ep=-446.6eV  Ek=0.001eV (T= 10K)  Et=-446.6eV EV2=0.0050303 FV2=0.0766 alb=0.000 aln=0.009\n",
      "Step: 500 Energy/atom: Ep=-446.6eV  Ek=0.002eV (T= 14K)  Et=-446.6eV EV2=0.0053185 FV2=0.0765 alb=0.000 aln=0.009\n",
      "Step: 525 Energy/atom: Ep=-446.6eV  Ek=0.002eV (T= 15K)  Et=-446.6eV EV2=0.0056658 FV2=0.0749 alb=0.000 aln=0.010\n",
      "Step: 550 Energy/atom: Ep=-446.6eV  Ek=0.002eV (T= 17K)  Et=-446.6eV EV2=0.0062171 FV2=0.0759 alb=0.000 aln=0.009\n",
      "Step: 575 Energy/atom: Ep=-446.6eV  Ek=0.002eV (T= 13K)  Et=-446.6eV EV2=0.0069437 FV2=0.0777 alb=0.000 aln=0.012\n",
      "Step: 600 Energy/atom: Ep=-446.6eV  Ek=0.002eV (T= 16K)  Et=-446.6eV EV2=0.0064301 FV2=0.0769 alb=0.000 aln=0.011\n",
      "Step: 625 Energy/atom: Ep=-446.6eV  Ek=0.002eV (T= 16K)  Et=-446.6eV EV2=0.0054873 FV2=0.0739 alb=0.000 aln=0.011\n",
      "Step: 650 Energy/atom: Ep=-446.6eV  Ek=0.003eV (T= 21K)  Et=-446.6eV EV2=0.0052025 FV2=0.0746 alb=0.000 aln=0.010\n",
      "Step: 675 Energy/atom: Ep=-446.6eV  Ek=0.002eV (T= 19K)  Et=-446.6eV EV2=0.0058832 FV2=0.0749 alb=0.000 aln=0.012\n",
      "Step: 700 Energy/atom: Ep=-446.6eV  Ek=0.002eV (T= 19K)  Et=-446.6eV EV2=0.0058033 FV2=0.0735 alb=0.000 aln=0.011\n",
      "Step: 725 Energy/atom: Ep=-446.6eV  Ek=0.002eV (T= 15K)  Et=-446.6eV EV2=0.0045780 FV2=0.0719 alb=0.000 aln=0.015\n",
      "Step: 750 Energy/atom: Ep=-446.6eV  Ek=0.003eV (T= 21K)  Et=-446.6eV EV2=0.0045887 FV2=0.0732 alb=0.000 aln=0.012\n",
      "Step: 775 Energy/atom: Ep=-446.6eV  Ek=0.003eV (T= 25K)  Et=-446.6eV EV2=0.0049928 FV2=0.0755 alb=0.000 aln=0.012\n",
      "Step: 800 Energy/atom: Ep=-446.6eV  Ek=0.003eV (T= 26K)  Et=-446.6eV EV2=0.0055510 FV2=0.0755 alb=0.000 aln=0.013\n",
      "Step: 825 Energy/atom: Ep=-446.6eV  Ek=0.003eV (T= 21K)  Et=-446.6eV EV2=0.0049145 FV2=0.0756 alb=0.000 aln=0.013\n",
      "Step: 850 Energy/atom: Ep=-446.6eV  Ek=0.003eV (T= 20K)  Et=-446.6eV EV2=0.0044957 FV2=0.0765 alb=0.000 aln=0.013\n",
      "Step: 875 Energy/atom: Ep=-446.6eV  Ek=0.003eV (T= 24K)  Et=-446.6eV EV2=0.0052428 FV2=0.0774 alb=0.000 aln=0.015\n",
      "Step: 900 Energy/atom: Ep=-446.6eV  Ek=0.003eV (T= 26K)  Et=-446.6eV EV2=0.0054792 FV2=0.0753 alb=0.000 aln=0.013\n",
      "Step: 925 Energy/atom: Ep=-446.6eV  Ek=0.004eV (T= 29K)  Et=-446.6eV EV2=0.0048766 FV2=0.0770 alb=0.000 aln=0.014\n",
      "Step: 950 Energy/atom: Ep=-446.6eV  Ek=0.004eV (T= 33K)  Et=-446.6eV EV2=0.0041950 FV2=0.0772 alb=0.000 aln=0.016\n",
      "Step: 975 Energy/atom: Ep=-446.6eV  Ek=0.005eV (T= 35K)  Et=-446.6eV EV2=0.0039957 FV2=0.0746 alb=0.000 aln=0.013\n",
      "Step: 1000 Energy/atom: Ep=-446.6eV  Ek=0.004eV (T= 29K)  Et=-446.6eV EV2=0.0053246 FV2=0.0735 alb=0.000 aln=0.016\n",
      "Step: 1025 Energy/atom: Ep=-446.6eV  Ek=0.004eV (T= 28K)  Et=-446.6eV EV2=0.0065468 FV2=0.0754 alb=0.000 aln=0.015\n",
      "Step: 1050 Energy/atom: Ep=-446.6eV  Ek=0.004eV (T= 31K)  Et=-446.6eV EV2=0.0051742 FV2=0.0751 alb=0.000 aln=0.016\n",
      "Step: 1075 Energy/atom: Ep=-446.6eV  Ek=0.004eV (T= 35K)  Et=-446.6eV EV2=0.0039909 FV2=0.0738 alb=0.000 aln=0.015\n",
      "Step: 1100 Energy/atom: Ep=-446.6eV  Ek=0.004eV (T= 33K)  Et=-446.6eV EV2=0.0042884 FV2=0.0741 alb=0.000 aln=0.017\n",
      "Step: 1125 Energy/atom: Ep=-446.6eV  Ek=0.005eV (T= 38K)  Et=-446.6eV EV2=0.0053546 FV2=0.0768 alb=0.000 aln=0.016\n",
      "Step: 1150 Energy/atom: Ep=-446.6eV  Ek=0.004eV (T= 32K)  Et=-446.6eV EV2=0.0050758 FV2=0.0776 alb=0.000 aln=0.018\n",
      "Step: 1175 Energy/atom: Ep=-446.6eV  Ek=0.004eV (T= 33K)  Et=-446.6eV EV2=0.0046592 FV2=0.0764 alb=0.000 aln=0.018\n",
      "Step: 1200 Energy/atom: Ep=-446.6eV  Ek=0.004eV (T= 33K)  Et=-446.6eV EV2=0.0062343 FV2=0.0797 alb=0.000 aln=0.018\n",
      "Step: 1225 Energy/atom: Ep=-446.6eV  Ek=0.005eV (T= 38K)  Et=-446.6eV EV2=0.0061241 FV2=0.0816 alb=0.000 aln=0.016\n",
      "Step: 1250 Energy/atom: Ep=-446.6eV  Ek=0.004eV (T= 32K)  Et=-446.6eV EV2=0.0056526 FV2=0.0812 alb=0.000 aln=0.017\n",
      "Step: 1275 Energy/atom: Ep=-446.6eV  Ek=0.004eV (T= 33K)  Et=-446.6eV EV2=0.0054835 FV2=0.0762 alb=0.000 aln=0.018\n",
      "Step: 1300 Energy/atom: Ep=-446.6eV  Ek=0.004eV (T= 34K)  Et=-446.6eV EV2=0.0052330 FV2=0.0796 alb=0.000 aln=0.017\n",
      "Step: 1325 Energy/atom: Ep=-446.6eV  Ek=0.004eV (T= 35K)  Et=-446.6eV EV2=0.0063459 FV2=0.0782 alb=0.000 aln=0.020\n",
      "Step: 1350 Energy/atom: Ep=-446.6eV  Ek=0.005eV (T= 37K)  Et=-446.6eV EV2=0.0064677 FV2=0.0750 alb=0.000 aln=0.020\n",
      "Step: 1375 Energy/atom: Ep=-446.6eV  Ek=0.004eV (T= 30K)  Et=-446.6eV EV2=0.0062017 FV2=0.0721 alb=0.000 aln=0.021\n",
      "Step: 1400 Energy/atom: Ep=-446.6eV  Ek=0.005eV (T= 42K)  Et=-446.6eV EV2=0.0064797 FV2=0.0769 alb=0.000 aln=0.017\n",
      "Step: 1425 Energy/atom: Ep=-446.6eV  Ek=0.006eV (T= 43K)  Et=-446.6eV EV2=0.0069610 FV2=0.0761 alb=0.000 aln=0.018\n",
      "Step: 1450 Energy/atom: Ep=-446.6eV  Ek=0.006eV (T= 44K)  Et=-446.6eV EV2=0.0069155 FV2=0.0746 alb=0.000 aln=0.016\n",
      "Step: 1475 Energy/atom: Ep=-446.6eV  Ek=0.005eV (T= 38K)  Et=-446.6eV EV2=0.0073564 FV2=0.0807 alb=0.000 aln=0.020\n",
      "Step: 1500 Energy/atom: Ep=-446.6eV  Ek=0.006eV (T= 44K)  Et=-446.6eV EV2=0.0059303 FV2=0.0815 alb=0.000 aln=0.019\n",
      "Step: 1525 Energy/atom: Ep=-446.6eV  Ek=0.006eV (T= 47K)  Et=-446.6eV EV2=0.0051776 FV2=0.0807 alb=0.000 aln=0.017\n",
      "Step: 1550 Energy/atom: Ep=-446.6eV  Ek=0.006eV (T= 43K)  Et=-446.6eV EV2=0.0056947 FV2=0.0759 alb=0.000 aln=0.019\n",
      "Step: 1575 Energy/atom: Ep=-446.6eV  Ek=0.006eV (T= 45K)  Et=-446.6eV EV2=0.0051687 FV2=0.0783 alb=0.000 aln=0.016\n",
      "Step: 1600 Energy/atom: Ep=-446.6eV  Ek=0.005eV (T= 39K)  Et=-446.6eV EV2=0.0043589 FV2=0.0783 alb=0.000 aln=0.021\n",
      "Step: 1625 Energy/atom: Ep=-446.6eV  Ek=0.007eV (T= 50K)  Et=-446.6eV EV2=0.0040994 FV2=0.0756 alb=0.000 aln=0.016\n",
      "Step: 1650 Energy/atom: Ep=-446.6eV  Ek=0.006eV (T= 44K)  Et=-446.6eV EV2=0.0051822 FV2=0.0726 alb=0.000 aln=0.020\n",
      "Step: 1675 Energy/atom: Ep=-446.6eV  Ek=0.006eV (T= 49K)  Et=-446.6eV EV2=0.0060838 FV2=0.0745 alb=0.000 aln=0.016\n",
      "Step: 1700 Energy/atom: Ep=-446.6eV  Ek=0.005eV (T= 42K)  Et=-446.6eV EV2=0.0063040 FV2=0.0750 alb=0.000 aln=0.022\n",
      "Step: 1725 Energy/atom: Ep=-446.6eV  Ek=0.006eV (T= 49K)  Et=-446.6eV EV2=0.0065577 FV2=0.0721 alb=0.000 aln=0.017\n",
      "Step: 1750 Energy/atom: Ep=-446.6eV  Ek=0.006eV (T= 44K)  Et=-446.6eV EV2=0.0064155 FV2=0.0732 alb=0.000 aln=0.021\n",
      "Step: 1775 Energy/atom: Ep=-446.6eV  Ek=0.005eV (T= 39K)  Et=-446.6eV EV2=0.0055004 FV2=0.0736 alb=0.000 aln=0.020\n",
      "Step: 1800 Energy/atom: Ep=-446.6eV  Ek=0.006eV (T= 48K)  Et=-446.6eV EV2=0.0048737 FV2=0.0758 alb=0.000 aln=0.018\n"
     ]
    },
    {
     "name": "stdout",
     "output_type": "stream",
     "text": [
      "Step: 1825 Energy/atom: Ep=-446.6eV  Ek=0.007eV (T= 54K)  Et=-446.6eV EV2=0.0047594 FV2=0.0747 alb=0.000 aln=0.020\n",
      "Step: 1850 Energy/atom: Ep=-446.6eV  Ek=0.008eV (T= 59K)  Et=-446.6eV EV2=0.0034682 FV2=0.0778 alb=0.000 aln=0.014\n",
      "Step: 1875 Energy/atom: Ep=-446.6eV  Ek=0.006eV (T= 48K)  Et=-446.6eV EV2=0.0044512 FV2=0.0772 alb=0.000 aln=0.022\n",
      "Step: 1900 Energy/atom: Ep=-446.6eV  Ek=0.007eV (T= 54K)  Et=-446.6eV EV2=0.0040934 FV2=0.0790 alb=0.000 aln=0.020\n",
      "Step: 1925 Energy/atom: Ep=-446.6eV  Ek=0.007eV (T= 53K)  Et=-446.6eV EV2=0.0050337 FV2=0.0777 alb=0.000 aln=0.023\n",
      "Step: 1950 Energy/atom: Ep=-446.6eV  Ek=0.008eV (T= 61K)  Et=-446.6eV EV2=0.0058128 FV2=0.0785 alb=0.000 aln=0.020\n",
      "Step: 1975 Energy/atom: Ep=-446.6eV  Ek=0.007eV (T= 55K)  Et=-446.6eV EV2=0.0065661 FV2=0.0762 alb=0.000 aln=0.020\n",
      "Step: 2000 Energy/atom: Ep=-446.6eV  Ek=0.007eV (T= 57K)  Et=-446.6eV EV2=0.0063173 FV2=0.0762 alb=0.000 aln=0.019\n",
      "Step: 2025 Energy/atom: Ep=-446.6eV  Ek=0.008eV (T= 60K)  Et=-446.6eV EV2=0.0058820 FV2=0.0740 alb=0.000 aln=0.018\n",
      "Step: 2050 Energy/atom: Ep=-446.6eV  Ek=0.008eV (T= 60K)  Et=-446.6eV EV2=0.0051380 FV2=0.0751 alb=0.000 aln=0.021\n",
      "Step: 2075 Energy/atom: Ep=-446.6eV  Ek=0.007eV (T= 54K)  Et=-446.6eV EV2=0.0050873 FV2=0.0782 alb=0.000 aln=0.020\n",
      "Step: 2100 Energy/atom: Ep=-446.6eV  Ek=0.007eV (T= 54K)  Et=-446.6eV EV2=0.0051478 FV2=0.0757 alb=0.000 aln=0.023\n",
      "Step: 2125 Energy/atom: Ep=-446.6eV  Ek=0.007eV (T= 53K)  Et=-446.6eV EV2=0.0058409 FV2=0.0788 alb=0.000 aln=0.020\n",
      "Step: 2150 Energy/atom: Ep=-446.6eV  Ek=0.009eV (T= 67K)  Et=-446.6eV EV2=0.0057999 FV2=0.0812 alb=0.000 aln=0.018\n",
      "Step: 2175 Energy/atom: Ep=-446.6eV  Ek=0.008eV (T= 62K)  Et=-446.6eV EV2=0.0051107 FV2=0.0794 alb=0.000 aln=0.022\n",
      "Step: 2200 Energy/atom: Ep=-446.6eV  Ek=0.008eV (T= 61K)  Et=-446.6eV EV2=0.0057787 FV2=0.0782 alb=0.000 aln=0.020\n",
      "Step: 2225 Energy/atom: Ep=-446.6eV  Ek=0.006eV (T= 47K)  Et=-446.6eV EV2=0.0060873 FV2=0.0829 alb=0.000 aln=0.023\n",
      "Step: 2250 Energy/atom: Ep=-446.6eV  Ek=0.006eV (T= 48K)  Et=-446.6eV EV2=0.0057375 FV2=0.0803 alb=0.000 aln=0.022\n",
      "Step: 2275 Energy/atom: Ep=-446.6eV  Ek=0.009eV (T= 68K)  Et=-446.6eV EV2=0.0049595 FV2=0.0777 alb=0.000 aln=0.019\n",
      "Step: 2300 Energy/atom: Ep=-446.6eV  Ek=0.009eV (T= 69K)  Et=-446.6eV EV2=0.0047812 FV2=0.0782 alb=0.000 aln=0.020\n",
      "Step: 2325 Energy/atom: Ep=-446.6eV  Ek=0.010eV (T= 77K)  Et=-446.6eV EV2=0.0059027 FV2=0.0807 alb=0.000 aln=0.018\n",
      "Step: 2350 Energy/atom: Ep=-446.6eV  Ek=0.007eV (T= 57K)  Et=-446.6eV EV2=0.0070917 FV2=0.0782 alb=0.000 aln=0.024\n",
      "Step: 2375 Energy/atom: Ep=-446.6eV  Ek=0.008eV (T= 65K)  Et=-446.6eV EV2=0.0061094 FV2=0.0733 alb=0.000 aln=0.019\n",
      "Step: 2400 Energy/atom: Ep=-446.6eV  Ek=0.007eV (T= 50K)  Et=-446.6eV EV2=0.0066873 FV2=0.0765 alb=0.000 aln=0.026\n",
      "Step: 2425 Energy/atom: Ep=-446.6eV  Ek=0.009eV (T= 68K)  Et=-446.6eV EV2=0.0084391 FV2=0.0782 alb=0.000 aln=0.021\n",
      "Step: 2450 Energy/atom: Ep=-446.6eV  Ek=0.010eV (T= 77K)  Et=-446.6eV EV2=0.0075818 FV2=0.0772 alb=0.000 aln=0.020\n",
      "Step: 2475 Energy/atom: Ep=-446.6eV  Ek=0.010eV (T= 81K)  Et=-446.6eV EV2=0.0060219 FV2=0.0720 alb=0.000 aln=0.018\n",
      "Step: 2500 Energy/atom: Ep=-446.6eV  Ek=0.008eV (T= 63K)  Et=-446.6eV EV2=0.0057158 FV2=0.0752 alb=0.000 aln=0.022\n",
      "Step: 2525 Energy/atom: Ep=-446.6eV  Ek=0.007eV (T= 54K)  Et=-446.6eV EV2=0.0055041 FV2=0.0782 alb=0.000 aln=0.024\n",
      "Step: 2550 Energy/atom: Ep=-446.6eV  Ek=0.008eV (T= 65K)  Et=-446.6eV EV2=0.0057392 FV2=0.0771 alb=0.000 aln=0.025\n",
      "Step: 2575 Energy/atom: Ep=-446.6eV  Ek=0.011eV (T= 84K)  Et=-446.6eV EV2=0.0054378 FV2=0.0778 alb=0.000 aln=0.023\n",
      "Step: 2600 Energy/atom: Ep=-446.6eV  Ek=0.011eV (T= 88K)  Et=-446.6eV EV2=0.0061988 FV2=0.0808 alb=0.000 aln=0.020\n",
      "Step: 2625 Energy/atom: Ep=-446.6eV  Ek=0.009eV (T= 73K)  Et=-446.6eV EV2=0.0072640 FV2=0.0827 alb=0.000 aln=0.022\n",
      "Step: 2650 Energy/atom: Ep=-446.6eV  Ek=0.008eV (T= 62K)  Et=-446.6eV EV2=0.0074638 FV2=0.0814 alb=0.000 aln=0.025\n",
      "Step: 2675 Energy/atom: Ep=-446.6eV  Ek=0.009eV (T= 70K)  Et=-446.6eV EV2=0.0080360 FV2=0.0794 alb=0.000 aln=0.023\n",
      "Step: 2700 Energy/atom: Ep=-446.6eV  Ek=0.010eV (T= 77K)  Et=-446.6eV EV2=0.0078655 FV2=0.0773 alb=0.000 aln=0.026\n",
      "Step: 2725 Energy/atom: Ep=-446.6eV  Ek=0.011eV (T= 81K)  Et=-446.6eV EV2=0.0066248 FV2=0.0756 alb=0.000 aln=0.023\n",
      "Step: 2750 Energy/atom: Ep=-446.6eV  Ek=0.009eV (T= 73K)  Et=-446.6eV EV2=0.0058597 FV2=0.0729 alb=0.000 aln=0.026\n",
      "Step: 2775 Energy/atom: Ep=-446.6eV  Ek=0.010eV (T= 78K)  Et=-446.6eV EV2=0.0063615 FV2=0.0722 alb=0.000 aln=0.021\n",
      "Step: 2800 Energy/atom: Ep=-446.6eV  Ek=0.010eV (T= 75K)  Et=-446.6eV EV2=0.0059380 FV2=0.0732 alb=0.000 aln=0.025\n",
      "Step: 2825 Energy/atom: Ep=-446.6eV  Ek=0.010eV (T= 78K)  Et=-446.6eV EV2=0.0054302 FV2=0.0746 alb=0.000 aln=0.025\n",
      "Step: 2850 Energy/atom: Ep=-446.6eV  Ek=0.010eV (T= 76K)  Et=-446.6eV EV2=0.0058553 FV2=0.0749 alb=0.000 aln=0.027\n",
      "Step: 2875 Energy/atom: Ep=-446.6eV  Ek=0.010eV (T= 75K)  Et=-446.6eV EV2=0.0078196 FV2=0.0817 alb=0.000 aln=0.028\n",
      "Step: 2900 Energy/atom: Ep=-446.6eV  Ek=0.011eV (T= 82K)  Et=-446.6eV EV2=0.0074653 FV2=0.0760 alb=0.000 aln=0.023\n",
      "Step: 2925 Energy/atom: Ep=-446.6eV  Ek=0.011eV (T= 83K)  Et=-446.6eV EV2=0.0059594 FV2=0.0713 alb=0.000 aln=0.025\n",
      "Step: 2950 Energy/atom: Ep=-446.6eV  Ek=0.012eV (T= 91K)  Et=-446.6eV EV2=0.0062196 FV2=0.0742 alb=0.000 aln=0.021\n",
      "Step: 2975 Energy/atom: Ep=-446.6eV  Ek=0.010eV (T= 74K)  Et=-446.6eV EV2=0.0077208 FV2=0.0830 alb=0.000 aln=0.028\n",
      "Step: 3000 Energy/atom: Ep=-446.6eV  Ek=0.010eV (T= 76K)  Et=-446.6eV EV2=0.0064028 FV2=0.0786 alb=0.000 aln=0.026\n",
      "Step: 3025 Energy/atom: Ep=-446.6eV  Ek=0.009eV (T= 70K)  Et=-446.6eV EV2=0.0055654 FV2=0.0773 alb=0.000 aln=0.028\n",
      "Step: 3050 Energy/atom: Ep=-446.6eV  Ek=0.010eV (T= 79K)  Et=-446.6eV EV2=0.0065482 FV2=0.0796 alb=0.000 aln=0.028\n",
      "Step: 3075 Energy/atom: Ep=-446.6eV  Ek=0.011eV (T= 83K)  Et=-446.6eV EV2=0.0077328 FV2=0.0802 alb=0.000 aln=0.025\n",
      "Step: 3100 Energy/atom: Ep=-446.6eV  Ek=0.011eV (T= 85K)  Et=-446.6eV EV2=0.0075493 FV2=0.0763 alb=0.000 aln=0.025\n",
      "Step: 3125 Energy/atom: Ep=-446.6eV  Ek=0.011eV (T= 84K)  Et=-446.6eV EV2=0.0057179 FV2=0.0728 alb=0.000 aln=0.024\n",
      "Step: 3150 Energy/atom: Ep=-446.6eV  Ek=0.011eV (T= 83K)  Et=-446.6eV EV2=0.0059248 FV2=0.0772 alb=0.000 aln=0.025\n",
      "Step: 3175 Energy/atom: Ep=-446.6eV  Ek=0.010eV (T= 81K)  Et=-446.6eV EV2=0.0073921 FV2=0.0811 alb=0.000 aln=0.030\n",
      "Step: 3200 Energy/atom: Ep=-446.6eV  Ek=0.012eV (T= 92K)  Et=-446.6eV EV2=0.0067960 FV2=0.0739 alb=0.000 aln=0.025\n",
      "Step: 3225 Energy/atom: Ep=-446.6eV  Ek=0.011eV (T= 87K)  Et=-446.6eV EV2=0.0073665 FV2=0.0699 alb=0.000 aln=0.028\n",
      "Step: 3250 Energy/atom: Ep=-446.6eV  Ek=0.013eV (T=100K)  Et=-446.6eV EV2=0.0073119 FV2=0.0781 alb=0.000 aln=0.023\n",
      "Step: 3275 Energy/atom: Ep=-446.6eV  Ek=0.011eV (T= 85K)  Et=-446.6eV EV2=0.0074050 FV2=0.0784 alb=0.000 aln=0.028\n",
      "Step: 3300 Energy/atom: Ep=-446.6eV  Ek=0.014eV (T=105K)  Et=-446.6eV EV2=0.0079533 FV2=0.0761 alb=0.000 aln=0.024\n",
      "Step: 3325 Energy/atom: Ep=-446.6eV  Ek=0.012eV (T= 93K)  Et=-446.6eV EV2=0.0069495 FV2=0.0794 alb=0.000 aln=0.032\n",
      "Step: 3350 Energy/atom: Ep=-446.6eV  Ek=0.014eV (T=109K)  Et=-446.6eV EV2=0.0049540 FV2=0.0807 alb=0.000 aln=0.025\n",
      "Step: 3375 Energy/atom: Ep=-446.6eV  Ek=0.013eV (T=100K)  Et=-446.6eV EV2=0.0042407 FV2=0.0794 alb=0.000 aln=0.028\n",
      "Step: 3400 Energy/atom: Ep=-446.6eV  Ek=0.012eV (T= 91K)  Et=-446.6eV EV2=0.0050089 FV2=0.0809 alb=0.000 aln=0.029\n",
      "Step: 3425 Energy/atom: Ep=-446.6eV  Ek=0.013eV (T= 97K)  Et=-446.6eV EV2=0.0052394 FV2=0.0777 alb=0.000 aln=0.025\n",
      "Step: 3450 Energy/atom: Ep=-446.6eV  Ek=0.011eV (T= 85K)  Et=-446.6eV EV2=0.0041534 FV2=0.0790 alb=0.000 aln=0.032\n",
      "Step: 3475 Energy/atom: Ep=-446.6eV  Ek=0.014eV (T=108K)  Et=-446.6eV EV2=0.0038742 FV2=0.0809 alb=0.000 aln=0.025\n",
      "Step: 3500 Energy/atom: Ep=-446.6eV  Ek=0.013eV (T= 99K)  Et=-446.6eV EV2=0.0059845 FV2=0.0802 alb=0.000 aln=0.030\n",
      "Step: 3525 Energy/atom: Ep=-446.6eV  Ek=0.016eV (T=124K)  Et=-446.6eV EV2=0.0079789 FV2=0.0782 alb=0.000 aln=0.024\n",
      "Step: 3550 Energy/atom: Ep=-446.6eV  Ek=0.012eV (T= 91K)  Et=-446.6eV EV2=0.0083915 FV2=0.0806 alb=0.000 aln=0.031\n",
      "Step: 3575 Energy/atom: Ep=-446.6eV  Ek=0.012eV (T= 92K)  Et=-446.6eV EV2=0.0076121 FV2=0.0831 alb=0.000 aln=0.029\n",
      "Step: 3600 Energy/atom: Ep=-446.6eV  Ek=0.011eV (T= 89K)  Et=-446.6eV EV2=0.0070820 FV2=0.0809 alb=0.000 aln=0.031\n"
     ]
    },
    {
     "name": "stdout",
     "output_type": "stream",
     "text": [
      "Step: 3625 Energy/atom: Ep=-446.6eV  Ek=0.014eV (T=108K)  Et=-446.6eV EV2=0.0096515 FV2=0.0818 alb=0.000 aln=0.026\n",
      "Step: 3650 Energy/atom: Ep=-446.6eV  Ek=0.015eV (T=119K)  Et=-446.6eV EV2=0.0089744 FV2=0.0797 alb=0.000 aln=0.026\n",
      "Step: 3675 Energy/atom: Ep=-446.6eV  Ek=0.014eV (T=105K)  Et=-446.6eV EV2=0.0057827 FV2=0.0846 alb=0.000 aln=0.032\n",
      "Step: 3700 Energy/atom: Ep=-446.6eV  Ek=0.014eV (T=105K)  Et=-446.6eV EV2=0.0067477 FV2=0.0765 alb=0.000 aln=0.031\n",
      "Step: 3725 Energy/atom: Ep=-446.6eV  Ek=0.013eV (T= 99K)  Et=-446.6eV EV2=0.0093171 FV2=0.0857 alb=0.000 aln=0.032\n",
      "Step: 3750 Energy/atom: Ep=-446.6eV  Ek=0.016eV (T=121K)  Et=-446.6eV EV2=0.0085711 FV2=0.0804 alb=0.000 aln=0.028\n",
      "Step: 3775 Energy/atom: Ep=-446.6eV  Ek=0.014eV (T=108K)  Et=-446.6eV EV2=0.0053653 FV2=0.0817 alb=0.000 aln=0.030\n",
      "Step: 3800 Energy/atom: Ep=-446.6eV  Ek=0.014eV (T=108K)  Et=-446.6eV EV2=0.0043651 FV2=0.0800 alb=0.000 aln=0.026\n",
      "Step: 3825 Energy/atom: Ep=-446.6eV  Ek=0.014eV (T=106K)  Et=-446.6eV EV2=0.0062445 FV2=0.0848 alb=0.000 aln=0.029\n",
      "Step: 3850 Energy/atom: Ep=-446.6eV  Ek=0.016eV (T=127K)  Et=-446.6eV EV2=0.0075257 FV2=0.0843 alb=0.000 aln=0.030\n",
      "Step: 3875 Energy/atom: Ep=-446.6eV  Ek=0.017eV (T=128K)  Et=-446.6eV EV2=0.0072596 FV2=0.0819 alb=0.000 aln=0.028\n",
      "Step: 3900 Energy/atom: Ep=-446.6eV  Ek=0.014eV (T=110K)  Et=-446.6eV EV2=0.0075765 FV2=0.0822 alb=0.000 aln=0.029\n",
      "Step: 3925 Energy/atom: Ep=-446.6eV  Ek=0.012eV (T= 93K)  Et=-446.6eV EV2=0.0082586 FV2=0.0861 alb=0.000 aln=0.035\n",
      "Step: 3950 Energy/atom: Ep=-446.6eV  Ek=0.015eV (T=116K)  Et=-446.6eV EV2=0.0082390 FV2=0.0823 alb=0.000 aln=0.024\n",
      "Step: 3975 Energy/atom: Ep=-446.6eV  Ek=0.017eV (T=130K)  Et=-446.6eV EV2=0.0063627 FV2=0.0764 alb=0.000 aln=0.028\n",
      "Step: 4000 Energy/atom: Ep=-446.6eV  Ek=0.017eV (T=135K)  Et=-446.6eV EV2=0.0054983 FV2=0.0763 alb=0.000 aln=0.029\n",
      "Step: 4025 Energy/atom: Ep=-446.6eV  Ek=0.013eV (T=104K)  Et=-446.6eV EV2=0.0074663 FV2=0.0787 alb=0.000 aln=0.030\n",
      "Step: 4050 Energy/atom: Ep=-446.6eV  Ek=0.013eV (T=104K)  Et=-446.6eV EV2=0.0090562 FV2=0.0833 alb=0.000 aln=0.029\n",
      "Step: 4075 Energy/atom: Ep=-446.6eV  Ek=0.014eV (T=112K)  Et=-446.6eV EV2=0.0068600 FV2=0.0843 alb=0.000 aln=0.033\n",
      "Step: 4100 Energy/atom: Ep=-446.6eV  Ek=0.015eV (T=114K)  Et=-446.6eV EV2=0.0062582 FV2=0.0815 alb=0.000 aln=0.028\n",
      "Step: 4125 Energy/atom: Ep=-446.6eV  Ek=0.015eV (T=120K)  Et=-446.6eV EV2=0.0068076 FV2=0.0795 alb=0.000 aln=0.023\n",
      "Step: 4150 Energy/atom: Ep=-446.6eV  Ek=0.014eV (T=109K)  Et=-446.6eV EV2=0.0060620 FV2=0.0855 alb=0.000 aln=0.032\n",
      "Step: 4175 Energy/atom: Ep=-446.6eV  Ek=0.016eV (T=124K)  Et=-446.6eV EV2=0.0046392 FV2=0.0868 alb=0.000 aln=0.026\n",
      "Step: 4200 Energy/atom: Ep=-446.6eV  Ek=0.012eV (T= 90K)  Et=-446.6eV EV2=0.0054960 FV2=0.0877 alb=0.000 aln=0.035\n",
      "Step: 4225 Energy/atom: Ep=-446.6eV  Ek=0.014eV (T=111K)  Et=-446.6eV EV2=0.0042506 FV2=0.0810 alb=0.000 aln=0.028\n",
      "Step: 4250 Energy/atom: Ep=-446.6eV  Ek=0.013eV (T=100K)  Et=-446.6eV EV2=0.0037050 FV2=0.0778 alb=0.000 aln=0.035\n",
      "Step: 4275 Energy/atom: Ep=-446.6eV  Ek=0.017eV (T=135K)  Et=-446.6eV EV2=0.0058942 FV2=0.0751 alb=0.000 aln=0.022\n",
      "Step: 4300 Energy/atom: Ep=-446.6eV  Ek=0.014eV (T=111K)  Et=-446.6eV EV2=0.0060045 FV2=0.0763 alb=0.000 aln=0.031\n",
      "Step: 4325 Energy/atom: Ep=-446.6eV  Ek=0.012eV (T= 94K)  Et=-446.6eV EV2=0.0043586 FV2=0.0723 alb=0.000 aln=0.033\n",
      "Step: 4350 Energy/atom: Ep=-446.6eV  Ek=0.012eV (T= 94K)  Et=-446.6eV EV2=0.0051584 FV2=0.0749 alb=0.000 aln=0.031\n",
      "Step: 4375 Energy/atom: Ep=-446.6eV  Ek=0.013eV (T=104K)  Et=-446.6eV EV2=0.0073748 FV2=0.0792 alb=0.000 aln=0.033\n",
      "Step: 4400 Energy/atom: Ep=-446.6eV  Ek=0.017eV (T=129K)  Et=-446.6eV EV2=0.0053483 FV2=0.0798 alb=0.000 aln=0.029\n",
      "Step: 4425 Energy/atom: Ep=-446.6eV  Ek=0.015eV (T=119K)  Et=-446.6eV EV2=0.0034607 FV2=0.0760 alb=0.000 aln=0.028\n",
      "Step: 4450 Energy/atom: Ep=-446.6eV  Ek=0.014eV (T=112K)  Et=-446.6eV EV2=0.0036409 FV2=0.0803 alb=0.000 aln=0.029\n",
      "Step: 4475 Energy/atom: Ep=-446.6eV  Ek=0.011eV (T= 86K)  Et=-446.6eV EV2=0.0048754 FV2=0.0877 alb=0.000 aln=0.037\n",
      "Step: 4500 Energy/atom: Ep=-446.6eV  Ek=0.014eV (T=111K)  Et=-446.6eV EV2=0.0026208 FV2=0.0841 alb=0.000 aln=0.030\n",
      "Step: 4525 Energy/atom: Ep=-446.6eV  Ek=0.015eV (T=113K)  Et=-446.6eV EV2=0.0040836 FV2=0.0806 alb=0.000 aln=0.030\n",
      "Step: 4550 Energy/atom: Ep=-446.6eV  Ek=0.018eV (T=136K)  Et=-446.6eV EV2=0.0046657 FV2=0.0831 alb=0.000 aln=0.027\n",
      "Step: 4575 Energy/atom: Ep=-446.6eV  Ek=0.016eV (T=125K)  Et=-446.6eV EV2=0.0052843 FV2=0.0839 alb=0.000 aln=0.028\n",
      "Step: 4600 Energy/atom: Ep=-446.6eV  Ek=0.019eV (T=148K)  Et=-446.6eV EV2=0.0049219 FV2=0.0812 alb=0.000 aln=0.024\n",
      "Step: 4625 Energy/atom: Ep=-446.6eV  Ek=0.016eV (T=122K)  Et=-446.6eV EV2=0.0055844 FV2=0.0770 alb=0.000 aln=0.034\n",
      "Step: 4650 Energy/atom: Ep=-446.6eV  Ek=0.014eV (T=108K)  Et=-446.6eV EV2=0.0054697 FV2=0.0757 alb=0.000 aln=0.030\n",
      "Step: 4675 Energy/atom: Ep=-446.6eV  Ek=0.013eV (T=102K)  Et=-446.6eV EV2=0.0069182 FV2=0.0770 alb=0.000 aln=0.030\n",
      "Step: 4700 Energy/atom: Ep=-446.6eV  Ek=0.016eV (T=121K)  Et=-446.6eV EV2=0.0082963 FV2=0.0778 alb=0.000 aln=0.029\n",
      "Step: 4725 Energy/atom: Ep=-446.6eV  Ek=0.017eV (T=135K)  Et=-446.6eV EV2=0.0088014 FV2=0.0791 alb=0.000 aln=0.024\n",
      "Step: 4750 Energy/atom: Ep=-446.6eV  Ek=0.014eV (T=111K)  Et=-446.6eV EV2=0.0089321 FV2=0.0825 alb=0.000 aln=0.026\n",
      "Step: 4775 Energy/atom: Ep=-446.6eV  Ek=0.014eV (T=105K)  Et=-446.6eV EV2=0.0079475 FV2=0.0765 alb=0.000 aln=0.027\n",
      "Step: 4800 Energy/atom: Ep=-446.6eV  Ek=0.011eV (T= 88K)  Et=-446.6eV EV2=0.0090989 FV2=0.0854 alb=0.000 aln=0.034\n",
      "Step: 4825 Energy/atom: Ep=-446.6eV  Ek=0.016eV (T=127K)  Et=-446.6eV EV2=0.0085313 FV2=0.0871 alb=0.000 aln=0.023\n",
      "Step: 4850 Energy/atom: Ep=-446.6eV  Ek=0.014eV (T=108K)  Et=-446.6eV EV2=0.0068145 FV2=0.0826 alb=0.000 aln=0.030\n",
      "Step: 4875 Energy/atom: Ep=-446.6eV  Ek=0.014eV (T=108K)  Et=-446.6eV EV2=0.0063173 FV2=0.0792 alb=0.000 aln=0.026\n",
      "Step: 4900 Energy/atom: Ep=-446.6eV  Ek=0.011eV (T= 88K)  Et=-446.6eV EV2=0.0081887 FV2=0.0817 alb=0.000 aln=0.028\n",
      "Step: 4925 Energy/atom: Ep=-446.6eV  Ek=0.014eV (T=105K)  Et=-446.6eV EV2=0.0093899 FV2=0.0836 alb=0.000 aln=0.027\n",
      "Step: 4950 Energy/atom: Ep=-446.6eV  Ek=0.014eV (T=105K)  Et=-446.6eV EV2=0.0098219 FV2=0.0818 alb=0.000 aln=0.034\n",
      "Step: 4975 Energy/atom: Ep=-446.6eV  Ek=0.015eV (T=115K)  Et=-446.6eV EV2=0.0094540 FV2=0.0760 alb=0.000 aln=0.029\n",
      "Step: 5000 Energy/atom: Ep=-446.6eV  Ek=0.016eV (T=127K)  Et=-446.6eV EV2=0.0089394 FV2=0.0764 alb=0.000 aln=0.025\n",
      "[ANI Total time: 114.97396063804626 seconds]\n"
     ]
    }
   ],
   "source": [
    "start_time = time.time()\n",
    "dyn.run(5000) # Do 1ps of MD    \n",
    "print('[ANI Total time:', time.time() - start_time, 'seconds]')"
   ]
  },
  {
   "cell_type": "code",
   "execution_count": null,
   "metadata": {},
   "outputs": [],
   "source": [
    "#np.save('Enobias.npy',np.array(Esigma))\n",
    "#np.save('Fnobias.npy',np.array(Fsigma))"
   ]
  },
  {
   "cell_type": "code",
   "execution_count": null,
   "metadata": {},
   "outputs": [],
   "source": [
    "Ev2nb = np.load('Enobias.npy')\n",
    "Fv2nb = np.load('Fnobias.npy')"
   ]
  },
  {
   "cell_type": "code",
   "execution_count": null,
   "metadata": {},
   "outputs": [],
   "source": [
    "Ev2bi = np.array(Esigma)\n",
    "Fv2bi = np.array(Fsigma)"
   ]
  },
  {
   "cell_type": "code",
   "execution_count": null,
   "metadata": {},
   "outputs": [],
   "source": [
    "Ev2nb.mean(),Ev2bi.mean()"
   ]
  },
  {
   "cell_type": "code",
   "execution_count": null,
   "metadata": {},
   "outputs": [],
   "source": [
    "Fv2nb.mean(),Fv2bi.mean()"
   ]
  },
  {
   "cell_type": "code",
   "execution_count": null,
   "metadata": {},
   "outputs": [],
   "source": [
    "fig,(ax1,ax2) = plt.subplots(2,1,figsize=(7,7),dpi=300)\n",
    "ax1.plot(25*np.arange(Ev2nb.size),Ev2nb,label='Normal MD')\n",
    "ax1.plot(25*np.arange(Ev2bi.size),Ev2bi,'--',marker='o',label='UQ Biased MD')\n",
    "#ax1.set_xlabel('MD Step')\n",
    "ax1.set_ylabel('$V^2(E)$')\n",
    "ax1.legend()\n",
    "\n",
    "ax2.plot(25*np.arange(Fv2nb.size),Fv2nb,label='Normal MD')\n",
    "ax2.plot(25*np.arange(Fv2bi.size),Fv2bi,'--',marker='o',label='UQ Biased MD')\n",
    "ax2.set_xlabel('MD Step')\n",
    "ax2.set_ylabel('$V^2(F)$')\n",
    "ax2.legend()\n",
    "\n",
    "plt.show()"
   ]
  },
  {
   "cell_type": "code",
   "execution_count": null,
   "metadata": {},
   "outputs": [],
   "source": []
  },
  {
   "cell_type": "code",
   "execution_count": null,
   "metadata": {},
   "outputs": [],
   "source": [
    "np.mean(v2nb),np.mean(v2bi)"
   ]
  },
  {
   "cell_type": "code",
   "execution_count": null,
   "metadata": {},
   "outputs": [],
   "source": [
    "import numpy as np\n",
    "import matplotlib.pyplot as plt"
   ]
  },
  {
   "cell_type": "code",
   "execution_count": null,
   "metadata": {},
   "outputs": [],
   "source": [
    "fig = plt.figure(figsize=(5,3),dpi=200)\n",
    "\n",
    "# evenly sampled time at 200ms intervals\n",
    "t = np.arange(-4., 4., 0.001)\n",
    "\n",
    "\n",
    "def Efunc(x,alpha,beta):\n",
    "    return -alpha*np.exp(-beta*x*x)\n",
    "\n",
    "def Ffunc(x,alpha,beta):\n",
    "    dy = alpha*beta*2*x*np.exp(-beta*x*x)\n",
    "    return dy\n",
    "\n",
    "# red dashes, blue squares and green triangles\n",
    "plt.plot(t, Efunc(t,10,100000), 'r-')\n",
    "plt.plot(t, Ffunc(t,10,100000), 'r-')\n",
    "\n",
    "#plt.plot(t, Efunc(t,2,1), 'b-')\n",
    "#plt.plot(t, Ffunc(t,2,1), 'b-')\n",
    "\n",
    "#plt.plot(t, Efunc(t,1,1000), 'b-')\n",
    "#plt.plot(t, Ffunc(t,1,1000), 'b-')\n",
    "\n",
    "plt.show()"
   ]
  },
  {
   "cell_type": "code",
   "execution_count": null,
   "metadata": {},
   "outputs": [],
   "source": [
    "fig = plt.figure(figsize=(5,3),dpi=200)\n",
    "\n",
    "# evenly sampled time at 200ms intervals\n",
    "t = np.arange(0, 4., 0.001)\n",
    "\n",
    "\n",
    "def Efunc(x,alpha,beta):\n",
    "    return alpha*np.exp(-beta*x)\n",
    "\n",
    "def Ffunc(x,alpha,beta):\n",
    "    dy = -alpha*beta*np.exp(-beta*x)\n",
    "    return dy\n",
    "\n",
    "# red dashes, blue squares and green triangles\n",
    "plt.plot(t, Efunc(t,1,1), 'r-')\n",
    "plt.plot(t, Ffunc(t,1,1), 'r-')\n",
    "\n",
    "print(627*Efunc(0.0759942,0.5,1.0),627*Ffunc(0.0759942,0.5,1.0))\n",
    "\n",
    "#plt.plot(t, Efunc(t,2,1), 'b-')\n",
    "#plt.plot(t, Ffunc(t,2,1), 'b-')\n",
    "\n",
    "#plt.plot(t, Efunc(t,1,1000), 'b-')\n",
    "#plt.plot(t, Ffunc(t,1,1000), 'b-')\n",
    "\n",
    "plt.show()"
   ]
  },
  {
   "cell_type": "code",
   "execution_count": null,
   "metadata": {},
   "outputs": [],
   "source": [
    "fig = plt.figure(figsize=(5,3),dpi=200)\n",
    "\n",
    "# evenly sampled time at 200ms intervals\n",
    "t = np.arange(0.1, 4., 0.001)\n",
    "\n",
    "\n",
    "def Efunc(x,alpha,beta):\n",
    "    return -alpha*np.log(beta*x)\n",
    "\n",
    "def Ffunc(x,alpha,beta):\n",
    "    dy = alpha*beta*(1.0/(beta*x))\n",
    "    return dy\n",
    "\n",
    "# red dashes, blue squares and green triangles\n",
    "plt.plot(t, Efunc(t,0.0001,1), 'r-')\n",
    "#plt.plot(t, Efunc(t,1,10), 'g-')\n",
    "plt.plot(t, Ffunc(t,0.0001,1), 'r-')\n",
    "\n",
    "print(627*Efunc(0.0759942,0.5,1.0),627*Ffunc(0.0759942,0.5,1.0))\n",
    "\n",
    "#plt.plot(t, Efunc(t,2,1), 'b-')\n",
    "#plt.plot(t, Ffunc(t,2,1), 'b-')\n",
    "\n",
    "#plt.plot(t, Efunc(t,1,1000), 'b-')\n",
    "#plt.plot(t, Ffunc(t,1,1000), 'b-')\n",
    "\n",
    "plt.show()"
   ]
  },
  {
   "cell_type": "code",
   "execution_count": null,
   "metadata": {},
   "outputs": [],
   "source": [
    "np.array([1.0,2.0,3.0]).reshape(3,1,1)*np.array([[[1.0,1.0,1.0],[1.0,1.0,1.0]],[[1.0,1.0,1.0],[1.0,1.0,1.0]],[[1.0,1.0,1.0],[1.0,1.0,1.0]]])"
   ]
  },
  {
   "cell_type": "code",
   "execution_count": null,
   "metadata": {},
   "outputs": [],
   "source": []
  }
 ],
 "metadata": {
  "anaconda-cloud": {},
  "kernelspec": {
   "display_name": "Python 3",
   "language": "python",
   "name": "python3"
  },
  "language_info": {
   "codemirror_mode": {
    "name": "ipython",
    "version": 3
   },
   "file_extension": ".py",
   "mimetype": "text/x-python",
   "name": "python",
   "nbconvert_exporter": "python",
   "pygments_lexer": "ipython3",
   "version": "3.6.10"
  }
 },
 "nbformat": 4,
 "nbformat_minor": 1
}
